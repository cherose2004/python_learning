{
 "cells": [
  {
   "cell_type": "markdown",
   "metadata": {},
   "source": [
    "# Pandas的数据结构\n"
   ]
  },
  {
   "cell_type": "markdown",
   "metadata": {},
   "source": [
    "\n",
    "导入pandas：  \n",
    "三剑客"
   ]
  },
  {
   "cell_type": "code",
   "execution_count": 4,
   "metadata": {},
   "outputs": [],
   "source": [
    "import pandas as pd\n",
    "from pandas import Series,DataFrame\n",
    "import numpy as np"
   ]
  },
  {
   "cell_type": "markdown",
   "metadata": {},
   "source": [
    "### 1、Series"
   ]
  },
  {
   "cell_type": "markdown",
   "metadata": {},
   "source": [
    "Series是一种类似与一维数组的对象，由下面两个部分组成：\n",
    "- values：一组数据（ndarray类型）\n",
    "- index：相关的数据索引标签"
   ]
  },
  {
   "cell_type": "markdown",
   "metadata": {},
   "source": [
    "#### 1）Series的创建"
   ]
  },
  {
   "cell_type": "markdown",
   "metadata": {},
   "source": [
    "两种创建方式：\n",
    "\n",
    "(1) 由列表或numpy数组创建\n",
    "\n",
    "    默认索引为0到N-1的整数型索引"
   ]
  },
  {
   "cell_type": "code",
   "execution_count": 3,
   "metadata": {
    "scrolled": false
   },
   "outputs": [
    {
     "data": {
      "text/plain": [
       "a    1\n",
       "b    2\n",
       "c    3\n",
       "dtype: int64"
      ]
     },
     "execution_count": 3,
     "metadata": {},
     "output_type": "execute_result"
    }
   ],
   "source": [
    "#使用列表创建Series\n",
    "Series(data=[1,2,3])\n",
    "Series(data=[1,2,3],index=['a','b','c']) #显式索引"
   ]
  },
  {
   "cell_type": "code",
   "execution_count": 11,
   "metadata": {
    "scrolled": true
   },
   "outputs": [
    {
     "data": {
      "text/plain": [
       "a    87\n",
       "b    92\n",
       "c    94\n",
       "d    10\n",
       "dtype: int32"
      ]
     },
     "execution_count": 11,
     "metadata": {},
     "output_type": "execute_result"
    }
   ],
   "source": [
    "#使用numpy创建Series\n",
    "s = Series(data=np.random.randint(0,100,size=(4,)),index=['a','b','c','d'])\n",
    "s"
   ]
  },
  {
   "cell_type": "markdown",
   "metadata": {},
   "source": [
    "============================================\n",
    "\n",
    "练习1：\n",
    "\n",
    "使用多种方法创建以下Series，命名为s1：  \n",
    "语文 150   \n",
    "数学 150   \n",
    "英语 150   \n",
    "理综 300   \n",
    "\n",
    "============================================"
   ]
  },
  {
   "cell_type": "markdown",
   "metadata": {},
   "source": [
    "#### 2）Series的索引和切片"
   ]
  },
  {
   "cell_type": "markdown",
   "metadata": {},
   "source": [
    "可以使用中括号取单个索引（此时返回的是元素类型），或者中括号里<font color=red>一个列表</font>取多个索引（此时返回的是一个Series类型）。\n",
    "\n",
    "(1) 显式索引：\n",
    "\n",
    "    - 使用index中的元素作为索引值\n",
    "    - 使用s.loc[]（推荐）:注意，loc中括号中放置的一定是显示索引\n",
    "\n",
    " 注意，此时是闭区间"
   ]
  },
  {
   "cell_type": "code",
   "execution_count": 14,
   "metadata": {
    "scrolled": true
   },
   "outputs": [
    {
     "data": {
      "text/plain": [
       "b    92\n",
       "c    94\n",
       "dtype: int32"
      ]
     },
     "execution_count": 14,
     "metadata": {},
     "output_type": "execute_result"
    }
   ],
   "source": [
    "s[[1,2]]"
   ]
  },
  {
   "cell_type": "markdown",
   "metadata": {},
   "source": [
    "(2) 隐式索引：\n",
    "\n",
    "    - 使用整数作为索引值\n",
    "    - 使用.iloc[]（推荐）:iloc中的中括号中必须放置隐式索引\n",
    "\n",
    " 注意，此时是半开区间"
   ]
  },
  {
   "cell_type": "code",
   "execution_count": null,
   "metadata": {},
   "outputs": [],
   "source": []
  },
  {
   "cell_type": "markdown",
   "metadata": {},
   "source": [
    "## 切片:隐式索引切片和显示索引切片"
   ]
  },
  {
   "cell_type": "markdown",
   "metadata": {},
   "source": [
    "- 显示索引切片:index和loc"
   ]
  },
  {
   "cell_type": "code",
   "execution_count": 15,
   "metadata": {},
   "outputs": [
    {
     "data": {
      "text/plain": [
       "a    87\n",
       "b    92\n",
       "c    94\n",
       "dtype: int32"
      ]
     },
     "execution_count": 15,
     "metadata": {},
     "output_type": "execute_result"
    }
   ],
   "source": [
    "s[0:3]"
   ]
  },
  {
   "cell_type": "markdown",
   "metadata": {},
   "source": [
    "#### 3）Series的基本概念"
   ]
  },
  {
   "cell_type": "markdown",
   "metadata": {},
   "source": [
    "可以通过shape，size，index,values等得到series的属性"
   ]
  },
  {
   "cell_type": "code",
   "execution_count": 17,
   "metadata": {},
   "outputs": [
    {
     "data": {
      "text/plain": [
       "Index(['a', 'b', 'c', 'd'], dtype='object')"
      ]
     },
     "execution_count": 17,
     "metadata": {},
     "output_type": "execute_result"
    }
   ],
   "source": [
    "s.values\n",
    "s.index"
   ]
  },
  {
   "cell_type": "markdown",
   "metadata": {},
   "source": [
    "可以使用s.head(),tail()分别查看前n个和后n个值"
   ]
  },
  {
   "cell_type": "code",
   "execution_count": 19,
   "metadata": {
    "scrolled": true
   },
   "outputs": [
    {
     "data": {
      "text/plain": [
       "c    94\n",
       "d    10\n",
       "dtype: int32"
      ]
     },
     "execution_count": 19,
     "metadata": {},
     "output_type": "execute_result"
    }
   ],
   "source": [
    "s.head(2)\n",
    "s.tail(2)"
   ]
  },
  {
   "cell_type": "markdown",
   "metadata": {},
   "source": [
    "对Series元素进行去重"
   ]
  },
  {
   "cell_type": "code",
   "execution_count": 22,
   "metadata": {},
   "outputs": [
    {
     "data": {
      "text/plain": [
       "array([1, 2, 3, 4, 5, 6, 7, 8, 9], dtype=int64)"
      ]
     },
     "execution_count": 22,
     "metadata": {},
     "output_type": "execute_result"
    }
   ],
   "source": [
    "s = Series(data=[1,1,2,2,3,3,3,4,5,6,7,7,8,9,9,9])\n",
    "s.unique()"
   ]
  },
  {
   "cell_type": "markdown",
   "metadata": {},
   "source": [
    "当索引没有对应的值时，可能出现缺失数据显示NaN（not a number）的情况"
   ]
  },
  {
   "cell_type": "markdown",
   "metadata": {},
   "source": [
    "- 使得两个Series进行相加"
   ]
  },
  {
   "cell_type": "code",
   "execution_count": 24,
   "metadata": {},
   "outputs": [
    {
     "data": {
      "text/plain": [
       "a    2.0\n",
       "b    4.0\n",
       "c    NaN\n",
       "d    NaN\n",
       "dtype: float64"
      ]
     },
     "execution_count": 24,
     "metadata": {},
     "output_type": "execute_result"
    }
   ],
   "source": [
    "s1 = Series(data=[1,2,3],index=['a','b','c'])\n",
    "s2 = Series(data=[1,2,3],index=['a','b','d'])\n",
    "s = s1 + s2\n",
    "s"
   ]
  },
  {
   "cell_type": "markdown",
   "metadata": {},
   "source": [
    "可以使用pd.isnull()，pd.notnull()，或s.isnull(),notnull()函数检测缺失数据"
   ]
  },
  {
   "cell_type": "code",
   "execution_count": 26,
   "metadata": {
    "scrolled": true
   },
   "outputs": [
    {
     "data": {
      "text/plain": [
       "a     True\n",
       "b     True\n",
       "c    False\n",
       "d    False\n",
       "dtype: bool"
      ]
     },
     "execution_count": 26,
     "metadata": {},
     "output_type": "execute_result"
    }
   ],
   "source": [
    "s.isnull()\n",
    "s.notnull()"
   ]
  },
  {
   "cell_type": "code",
   "execution_count": 33,
   "metadata": {},
   "outputs": [
    {
     "data": {
      "text/plain": [
       "a    2.0\n",
       "b    4.0\n",
       "c    NaN\n",
       "d    NaN\n",
       "dtype: float64"
      ]
     },
     "execution_count": 33,
     "metadata": {},
     "output_type": "execute_result"
    }
   ],
   "source": [
    "s"
   ]
  },
  {
   "cell_type": "code",
   "execution_count": 35,
   "metadata": {},
   "outputs": [
    {
     "data": {
      "text/plain": [
       "a    2.0\n",
       "b    4.0\n",
       "dtype: float64"
      ]
     },
     "execution_count": 35,
     "metadata": {},
     "output_type": "execute_result"
    }
   ],
   "source": [
    "s[[True,True,False,False]]\n",
    "s[s.notnull()]"
   ]
  },
  {
   "cell_type": "markdown",
   "metadata": {},
   "source": [
    "#### 4）Series的运算"
   ]
  },
  {
   "cell_type": "markdown",
   "metadata": {},
   "source": [
    "(1) + - * /"
   ]
  },
  {
   "cell_type": "code",
   "execution_count": 38,
   "metadata": {},
   "outputs": [
    {
     "data": {
      "text/plain": [
       "a    2.0\n",
       "b    4.0\n",
       "c    NaN\n",
       "d    NaN\n",
       "dtype: float64"
      ]
     },
     "execution_count": 38,
     "metadata": {},
     "output_type": "execute_result"
    }
   ],
   "source": [
    "s1.add(s2)"
   ]
  },
  {
   "cell_type": "markdown",
   "metadata": {},
   "source": [
    "(2) add() sub() mul() div()  :  s1.add(s2,fill_value=0)"
   ]
  },
  {
   "cell_type": "code",
   "execution_count": null,
   "metadata": {
    "scrolled": true
   },
   "outputs": [],
   "source": []
  },
  {
   "cell_type": "markdown",
   "metadata": {},
   "source": [
    "(3) Series之间的运算\n",
    "\n",
    "- 在运算中自动对齐不同索引的数据\n",
    "- 如果索引不对应，则补NaN"
   ]
  },
  {
   "cell_type": "markdown",
   "metadata": {},
   "source": [
    "============================================\n",
    "\n",
    "练习3：\n",
    "\n",
    "1. 想一想Series运算和ndarray运算的规则有什么不同？\n",
    "\n",
    "2. 新建另一个索引包含“文综”的Series s2，并与s2进行多种算术操作。\n",
    "\n",
    "============================================"
   ]
  },
  {
   "cell_type": "code",
   "execution_count": null,
   "metadata": {},
   "outputs": [],
   "source": []
  },
  {
   "cell_type": "markdown",
   "metadata": {},
   "source": [
    "### 2、DataFrame"
   ]
  },
  {
   "cell_type": "markdown",
   "metadata": {},
   "source": [
    "DataFrame是一个【表格型】的数据结构。DataFrame由按一定顺序排列的多列数据组成。设计初衷是将Series的使用场景从一维拓展到多维。DataFrame既有行索引，也有列索引。\n",
    "- 行索引：index\n",
    "- 列索引：columns\n",
    "- 值：values"
   ]
  },
  {
   "cell_type": "markdown",
   "metadata": {},
   "source": [
    "#### 1）DataFrame的创建\n",
    "最常用的方法是传递一个字典来创建。DataFrame以字典的键作为每一【列】的名称，以字典的值（一个数组）作为每一列。\n",
    "\n",
    "此外，DataFrame会自动加上每一行的索引。\n",
    "\n",
    "使用字典创建的DataFrame后，则columns参数将不可被使用。\n",
    "\n",
    "同Series一样，若传入的列与字典的键不匹配，则相应的值为NaN。\n"
   ]
  },
  {
   "cell_type": "code",
   "execution_count": null,
   "metadata": {},
   "outputs": [],
   "source": []
  },
  {
   "cell_type": "markdown",
   "metadata": {},
   "source": [
    "- 使用ndarray创建DataFrame"
   ]
  },
  {
   "cell_type": "code",
   "execution_count": 39,
   "metadata": {},
   "outputs": [
    {
     "data": {
      "text/plain": [
       "numpy.ndarray"
      ]
     },
     "execution_count": 39,
     "metadata": {},
     "output_type": "execute_result"
    }
   ],
   "source": [
    "arr = np.array([1,2,3])\n",
    "type(arr)"
   ]
  },
  {
   "cell_type": "code",
   "execution_count": 41,
   "metadata": {},
   "outputs": [
    {
     "data": {
      "text/html": [
       "<div>\n",
       "<style scoped>\n",
       "    .dataframe tbody tr th:only-of-type {\n",
       "        vertical-align: middle;\n",
       "    }\n",
       "\n",
       "    .dataframe tbody tr th {\n",
       "        vertical-align: top;\n",
       "    }\n",
       "\n",
       "    .dataframe thead th {\n",
       "        text-align: right;\n",
       "    }\n",
       "</style>\n",
       "<table border=\"1\" class=\"dataframe\">\n",
       "  <thead>\n",
       "    <tr style=\"text-align: right;\">\n",
       "      <th></th>\n",
       "      <th>0</th>\n",
       "      <th>1</th>\n",
       "      <th>2</th>\n",
       "      <th>3</th>\n",
       "    </tr>\n",
       "  </thead>\n",
       "  <tbody>\n",
       "    <tr>\n",
       "      <th>a</th>\n",
       "      <td>77</td>\n",
       "      <td>43</td>\n",
       "      <td>59</td>\n",
       "      <td>44</td>\n",
       "    </tr>\n",
       "    <tr>\n",
       "      <th>b</th>\n",
       "      <td>2</td>\n",
       "      <td>93</td>\n",
       "      <td>60</td>\n",
       "      <td>74</td>\n",
       "    </tr>\n",
       "    <tr>\n",
       "      <th>c</th>\n",
       "      <td>63</td>\n",
       "      <td>6</td>\n",
       "      <td>39</td>\n",
       "      <td>66</td>\n",
       "    </tr>\n",
       "  </tbody>\n",
       "</table>\n",
       "</div>"
      ],
      "text/plain": [
       "    0   1   2   3\n",
       "a  77  43  59  44\n",
       "b   2  93  60  74\n",
       "c  63   6  39  66"
      ]
     },
     "execution_count": 41,
     "metadata": {},
     "output_type": "execute_result"
    }
   ],
   "source": [
    "DataFrame(data=np.random.randint(0,100,size=(3,4)),index=['a','b','c'])"
   ]
  },
  {
   "cell_type": "markdown",
   "metadata": {},
   "source": [
    "DataFrame属性：values、columns、index、shape"
   ]
  },
  {
   "cell_type": "code",
   "execution_count": null,
   "metadata": {},
   "outputs": [],
   "source": []
  },
  {
   "cell_type": "markdown",
   "metadata": {},
   "source": [
    "使用字典创建DataFrame：创建一个表格用于展示张三，李四，王五的java，python的成绩"
   ]
  },
  {
   "cell_type": "code",
   "execution_count": 73,
   "metadata": {},
   "outputs": [],
   "source": [
    "dic = {\n",
    "    '张三':[11,22,33,44],\n",
    "    '李四':[55,66,77,88]\n",
    "}\n",
    "df_score = DataFrame(data=dic,index=['语文','数学','英语','理综'])"
   ]
  },
  {
   "cell_type": "markdown",
   "metadata": {},
   "source": [
    "============================================\n",
    "\n",
    "练习4：\n",
    "\n",
    "根据以下考试成绩表，创建一个DataFrame，命名为df：\n",
    "```\n",
    "    张三  李四  \n",
    "语文 150  0\n",
    "数学 150  0\n",
    "英语 150  0\n",
    "理综 300  0\n",
    "```\n",
    "\n",
    "============================================"
   ]
  },
  {
   "cell_type": "markdown",
   "metadata": {},
   "source": [
    "#### 2）DataFrame的索引"
   ]
  },
  {
   "cell_type": "markdown",
   "metadata": {},
   "source": [
    "(1) 对列进行索引\n",
    "\n",
    "    - 通过类似字典的方式  df['q']\n",
    "    - 通过属性的方式     df.q\n",
    "\n",
    " 可以将DataFrame的列获取为一个Series。返回的Series拥有原DataFrame相同的索引，且name属性也已经设置好了，就是相应的列名。"
   ]
  },
  {
   "cell_type": "code",
   "execution_count": 52,
   "metadata": {
    "scrolled": false
   },
   "outputs": [
    {
     "data": {
      "text/html": [
       "<div>\n",
       "<style scoped>\n",
       "    .dataframe tbody tr th:only-of-type {\n",
       "        vertical-align: middle;\n",
       "    }\n",
       "\n",
       "    .dataframe tbody tr th {\n",
       "        vertical-align: top;\n",
       "    }\n",
       "\n",
       "    .dataframe thead th {\n",
       "        text-align: right;\n",
       "    }\n",
       "</style>\n",
       "<table border=\"1\" class=\"dataframe\">\n",
       "  <thead>\n",
       "    <tr style=\"text-align: right;\">\n",
       "      <th></th>\n",
       "      <th>A</th>\n",
       "      <th>B</th>\n",
       "      <th>C</th>\n",
       "      <th>D</th>\n",
       "    </tr>\n",
       "  </thead>\n",
       "  <tbody>\n",
       "    <tr>\n",
       "      <th>a</th>\n",
       "      <td>61</td>\n",
       "      <td>87</td>\n",
       "      <td>56</td>\n",
       "      <td>73</td>\n",
       "    </tr>\n",
       "    <tr>\n",
       "      <th>b</th>\n",
       "      <td>59</td>\n",
       "      <td>52</td>\n",
       "      <td>88</td>\n",
       "      <td>83</td>\n",
       "    </tr>\n",
       "    <tr>\n",
       "      <th>c</th>\n",
       "      <td>98</td>\n",
       "      <td>17</td>\n",
       "      <td>60</td>\n",
       "      <td>82</td>\n",
       "    </tr>\n",
       "  </tbody>\n",
       "</table>\n",
       "</div>"
      ],
      "text/plain": [
       "    A   B   C   D\n",
       "a  61  87  56  73\n",
       "b  59  52  88  83\n",
       "c  98  17  60  82"
      ]
     },
     "execution_count": 52,
     "metadata": {},
     "output_type": "execute_result"
    }
   ],
   "source": [
    "df = DataFrame(data=np.random.randint(0,100,size=(3,4)),index=['a','b','c'],columns=['A','B','C','D'])\n",
    "df"
   ]
  },
  {
   "cell_type": "code",
   "execution_count": 53,
   "metadata": {},
   "outputs": [
    {
     "data": {
      "text/html": [
       "<div>\n",
       "<style scoped>\n",
       "    .dataframe tbody tr th:only-of-type {\n",
       "        vertical-align: middle;\n",
       "    }\n",
       "\n",
       "    .dataframe tbody tr th {\n",
       "        vertical-align: top;\n",
       "    }\n",
       "\n",
       "    .dataframe thead th {\n",
       "        text-align: right;\n",
       "    }\n",
       "</style>\n",
       "<table border=\"1\" class=\"dataframe\">\n",
       "  <thead>\n",
       "    <tr style=\"text-align: right;\">\n",
       "      <th></th>\n",
       "      <th>A</th>\n",
       "      <th>B</th>\n",
       "    </tr>\n",
       "  </thead>\n",
       "  <tbody>\n",
       "    <tr>\n",
       "      <th>a</th>\n",
       "      <td>61</td>\n",
       "      <td>87</td>\n",
       "    </tr>\n",
       "    <tr>\n",
       "      <th>b</th>\n",
       "      <td>59</td>\n",
       "      <td>52</td>\n",
       "    </tr>\n",
       "    <tr>\n",
       "      <th>c</th>\n",
       "      <td>98</td>\n",
       "      <td>17</td>\n",
       "    </tr>\n",
       "  </tbody>\n",
       "</table>\n",
       "</div>"
      ],
      "text/plain": [
       "    A   B\n",
       "a  61  87\n",
       "b  59  52\n",
       "c  98  17"
      ]
     },
     "execution_count": 53,
     "metadata": {},
     "output_type": "execute_result"
    }
   ],
   "source": [
    "#获取前两列\n",
    "df[['A','B']]"
   ]
  },
  {
   "cell_type": "markdown",
   "metadata": {
    "collapsed": true
   },
   "source": [
    "(2) 对行进行索引\n",
    "\n",
    "    - 使用.loc[]加index来进行行索引\n",
    "    - 使用.iloc[]加整数来进行行索引\n",
    "    \n",
    " 同样返回一个Series，index为原来的columns。"
   ]
  },
  {
   "cell_type": "code",
   "execution_count": 60,
   "metadata": {},
   "outputs": [
    {
     "data": {
      "text/html": [
       "<div>\n",
       "<style scoped>\n",
       "    .dataframe tbody tr th:only-of-type {\n",
       "        vertical-align: middle;\n",
       "    }\n",
       "\n",
       "    .dataframe tbody tr th {\n",
       "        vertical-align: top;\n",
       "    }\n",
       "\n",
       "    .dataframe thead th {\n",
       "        text-align: right;\n",
       "    }\n",
       "</style>\n",
       "<table border=\"1\" class=\"dataframe\">\n",
       "  <thead>\n",
       "    <tr style=\"text-align: right;\">\n",
       "      <th></th>\n",
       "      <th>A</th>\n",
       "      <th>B</th>\n",
       "      <th>C</th>\n",
       "      <th>D</th>\n",
       "    </tr>\n",
       "  </thead>\n",
       "  <tbody>\n",
       "    <tr>\n",
       "      <th>a</th>\n",
       "      <td>61</td>\n",
       "      <td>87</td>\n",
       "      <td>56</td>\n",
       "      <td>73</td>\n",
       "    </tr>\n",
       "    <tr>\n",
       "      <th>b</th>\n",
       "      <td>59</td>\n",
       "      <td>52</td>\n",
       "      <td>88</td>\n",
       "      <td>83</td>\n",
       "    </tr>\n",
       "  </tbody>\n",
       "</table>\n",
       "</div>"
      ],
      "text/plain": [
       "    A   B   C   D\n",
       "a  61  87  56  73\n",
       "b  59  52  88  83"
      ]
     },
     "execution_count": 60,
     "metadata": {},
     "output_type": "execute_result"
    }
   ],
   "source": [
    "df.iloc[[0,1]]\n",
    "df.loc[['a','b']]"
   ]
  },
  {
   "cell_type": "markdown",
   "metadata": {},
   "source": [
    "(3) 对元素索引的方法\n",
    "    - 使用列索引\n",
    "    - 使用行索引(iloc[3,1] or loc['C','q']) 行索引在前，列索引在后\n",
    "    "
   ]
  },
  {
   "cell_type": "code",
   "execution_count": 63,
   "metadata": {},
   "outputs": [
    {
     "data": {
      "text/plain": [
       "a    73\n",
       "b    83\n",
       "Name: D, dtype: int32"
      ]
     },
     "execution_count": 63,
     "metadata": {},
     "output_type": "execute_result"
    }
   ],
   "source": [
    "df.loc['a','D']\n",
    "df.loc[['a','b'],'D']"
   ]
  },
  {
   "cell_type": "markdown",
   "metadata": {},
   "source": [
    "#### 切片："
   ]
  },
  {
   "cell_type": "markdown",
   "metadata": {},
   "source": [
    "【注意】\n",
    "直接用中括号时：\n",
    "- 索引表示的是列索引\n",
    "- 切片表示的是行切片"
   ]
  },
  {
   "cell_type": "code",
   "execution_count": 64,
   "metadata": {
    "scrolled": true
   },
   "outputs": [
    {
     "data": {
      "text/html": [
       "<div>\n",
       "<style scoped>\n",
       "    .dataframe tbody tr th:only-of-type {\n",
       "        vertical-align: middle;\n",
       "    }\n",
       "\n",
       "    .dataframe tbody tr th {\n",
       "        vertical-align: top;\n",
       "    }\n",
       "\n",
       "    .dataframe thead th {\n",
       "        text-align: right;\n",
       "    }\n",
       "</style>\n",
       "<table border=\"1\" class=\"dataframe\">\n",
       "  <thead>\n",
       "    <tr style=\"text-align: right;\">\n",
       "      <th></th>\n",
       "      <th>A</th>\n",
       "      <th>B</th>\n",
       "      <th>C</th>\n",
       "      <th>D</th>\n",
       "    </tr>\n",
       "  </thead>\n",
       "  <tbody>\n",
       "    <tr>\n",
       "      <th>a</th>\n",
       "      <td>61</td>\n",
       "      <td>87</td>\n",
       "      <td>56</td>\n",
       "      <td>73</td>\n",
       "    </tr>\n",
       "    <tr>\n",
       "      <th>b</th>\n",
       "      <td>59</td>\n",
       "      <td>52</td>\n",
       "      <td>88</td>\n",
       "      <td>83</td>\n",
       "    </tr>\n",
       "    <tr>\n",
       "      <th>c</th>\n",
       "      <td>98</td>\n",
       "      <td>17</td>\n",
       "      <td>60</td>\n",
       "      <td>82</td>\n",
       "    </tr>\n",
       "  </tbody>\n",
       "</table>\n",
       "</div>"
      ],
      "text/plain": [
       "    A   B   C   D\n",
       "a  61  87  56  73\n",
       "b  59  52  88  83\n",
       "c  98  17  60  82"
      ]
     },
     "execution_count": 64,
     "metadata": {},
     "output_type": "execute_result"
    }
   ],
   "source": [
    "df"
   ]
  },
  {
   "cell_type": "code",
   "execution_count": 67,
   "metadata": {},
   "outputs": [
    {
     "data": {
      "text/html": [
       "<div>\n",
       "<style scoped>\n",
       "    .dataframe tbody tr th:only-of-type {\n",
       "        vertical-align: middle;\n",
       "    }\n",
       "\n",
       "    .dataframe tbody tr th {\n",
       "        vertical-align: top;\n",
       "    }\n",
       "\n",
       "    .dataframe thead th {\n",
       "        text-align: right;\n",
       "    }\n",
       "</style>\n",
       "<table border=\"1\" class=\"dataframe\">\n",
       "  <thead>\n",
       "    <tr style=\"text-align: right;\">\n",
       "      <th></th>\n",
       "      <th>A</th>\n",
       "      <th>B</th>\n",
       "      <th>C</th>\n",
       "      <th>D</th>\n",
       "    </tr>\n",
       "  </thead>\n",
       "  <tbody>\n",
       "    <tr>\n",
       "      <th>a</th>\n",
       "      <td>61</td>\n",
       "      <td>87</td>\n",
       "      <td>56</td>\n",
       "      <td>73</td>\n",
       "    </tr>\n",
       "    <tr>\n",
       "      <th>b</th>\n",
       "      <td>59</td>\n",
       "      <td>52</td>\n",
       "      <td>88</td>\n",
       "      <td>83</td>\n",
       "    </tr>\n",
       "  </tbody>\n",
       "</table>\n",
       "</div>"
      ],
      "text/plain": [
       "    A   B   C   D\n",
       "a  61  87  56  73\n",
       "b  59  52  88  83"
      ]
     },
     "execution_count": 67,
     "metadata": {},
     "output_type": "execute_result"
    }
   ],
   "source": [
    "#切出前两行\n",
    "df['a':'b']\n",
    "df[0:2]"
   ]
  },
  {
   "cell_type": "markdown",
   "metadata": {},
   "source": [
    "在loc和iloc中使用切片(切列) ：      df.loc['B':'C','丙':'丁']"
   ]
  },
  {
   "cell_type": "code",
   "execution_count": 71,
   "metadata": {
    "scrolled": false
   },
   "outputs": [
    {
     "data": {
      "text/html": [
       "<div>\n",
       "<style scoped>\n",
       "    .dataframe tbody tr th:only-of-type {\n",
       "        vertical-align: middle;\n",
       "    }\n",
       "\n",
       "    .dataframe tbody tr th {\n",
       "        vertical-align: top;\n",
       "    }\n",
       "\n",
       "    .dataframe thead th {\n",
       "        text-align: right;\n",
       "    }\n",
       "</style>\n",
       "<table border=\"1\" class=\"dataframe\">\n",
       "  <thead>\n",
       "    <tr style=\"text-align: right;\">\n",
       "      <th></th>\n",
       "      <th>A</th>\n",
       "      <th>B</th>\n",
       "    </tr>\n",
       "  </thead>\n",
       "  <tbody>\n",
       "    <tr>\n",
       "      <th>a</th>\n",
       "      <td>61</td>\n",
       "      <td>87</td>\n",
       "    </tr>\n",
       "    <tr>\n",
       "      <th>b</th>\n",
       "      <td>59</td>\n",
       "      <td>52</td>\n",
       "    </tr>\n",
       "    <tr>\n",
       "      <th>c</th>\n",
       "      <td>98</td>\n",
       "      <td>17</td>\n",
       "    </tr>\n",
       "  </tbody>\n",
       "</table>\n",
       "</div>"
      ],
      "text/plain": [
       "    A   B\n",
       "a  61  87\n",
       "b  59  52\n",
       "c  98  17"
      ]
     },
     "execution_count": 71,
     "metadata": {},
     "output_type": "execute_result"
    }
   ],
   "source": [
    "df.loc[:,'A':'B']"
   ]
  },
  {
   "cell_type": "markdown",
   "metadata": {},
   "source": []
  },
  {
   "cell_type": "markdown",
   "metadata": {},
   "source": [
    "============================================\n",
    "\n",
    "练习5：\n",
    "\n",
    "使用多种方法对ddd进行索引和切片，并比较其中的区别\n",
    "\n",
    "============================================"
   ]
  },
  {
   "cell_type": "code",
   "execution_count": null,
   "metadata": {
    "collapsed": true
   },
   "outputs": [],
   "source": []
  },
  {
   "cell_type": "markdown",
   "metadata": {
    "collapsed": true
   },
   "source": [
    "#### 3）DataFrame的运算"
   ]
  },
  {
   "cell_type": "markdown",
   "metadata": {},
   "source": [
    "（1） DataFrame之间的运算\n",
    "\n",
    "同Series一样：\n",
    "\n",
    "- 在运算中自动对齐不同索引的数据\n",
    "- 如果索引不对应，则补NaN"
   ]
  },
  {
   "cell_type": "code",
   "execution_count": 72,
   "metadata": {
    "scrolled": false
   },
   "outputs": [
    {
     "data": {
      "text/html": [
       "<div>\n",
       "<style scoped>\n",
       "    .dataframe tbody tr th:only-of-type {\n",
       "        vertical-align: middle;\n",
       "    }\n",
       "\n",
       "    .dataframe tbody tr th {\n",
       "        vertical-align: top;\n",
       "    }\n",
       "\n",
       "    .dataframe thead th {\n",
       "        text-align: right;\n",
       "    }\n",
       "</style>\n",
       "<table border=\"1\" class=\"dataframe\">\n",
       "  <thead>\n",
       "    <tr style=\"text-align: right;\">\n",
       "      <th></th>\n",
       "      <th>A</th>\n",
       "      <th>B</th>\n",
       "      <th>C</th>\n",
       "      <th>D</th>\n",
       "    </tr>\n",
       "  </thead>\n",
       "  <tbody>\n",
       "    <tr>\n",
       "      <th>a</th>\n",
       "      <td>122</td>\n",
       "      <td>174</td>\n",
       "      <td>112</td>\n",
       "      <td>146</td>\n",
       "    </tr>\n",
       "    <tr>\n",
       "      <th>b</th>\n",
       "      <td>118</td>\n",
       "      <td>104</td>\n",
       "      <td>176</td>\n",
       "      <td>166</td>\n",
       "    </tr>\n",
       "    <tr>\n",
       "      <th>c</th>\n",
       "      <td>196</td>\n",
       "      <td>34</td>\n",
       "      <td>120</td>\n",
       "      <td>164</td>\n",
       "    </tr>\n",
       "  </tbody>\n",
       "</table>\n",
       "</div>"
      ],
      "text/plain": [
       "     A    B    C    D\n",
       "a  122  174  112  146\n",
       "b  118  104  176  166\n",
       "c  196   34  120  164"
      ]
     },
     "execution_count": 72,
     "metadata": {},
     "output_type": "execute_result"
    }
   ],
   "source": [
    "df + df"
   ]
  },
  {
   "cell_type": "markdown",
   "metadata": {},
   "source": [
    "创建DataFrame df1 不同人员的各科目成绩，月考一"
   ]
  },
  {
   "cell_type": "markdown",
   "metadata": {},
   "source": [
    "创建DataFrame df2 不同人员的各科目成绩，月考二  \n",
    "有新学生转入"
   ]
  },
  {
   "cell_type": "markdown",
   "metadata": {},
   "source": [
    "============================================\n",
    "\n",
    "练习6：\n",
    "\n",
    "1. 假设ddd是期中考试成绩，ddd2是期末考试成绩，请自由创建ddd2，并将其与ddd相加，求期中期末平均值。\n",
    "\n",
    "2. 假设张三期中考试数学被发现作弊，要记为0分，如何实现？\n",
    "\n",
    "3. 李四因为举报张三作弊立功，期中考试所有科目加100分，如何实现？\n",
    "\n",
    "4. 后来老师发现有一道题出错了，为了安抚学生情绪，给每位学生每个科目都加10分，如何实现？\n",
    "\n",
    "============================================"
   ]
  },
  {
   "cell_type": "code",
   "execution_count": 75,
   "metadata": {},
   "outputs": [],
   "source": [
    "qizhong = df_score\n",
    "qimo = df_score"
   ]
  },
  {
   "cell_type": "code",
   "execution_count": 76,
   "metadata": {},
   "outputs": [
    {
     "data": {
      "text/html": [
       "<div>\n",
       "<style scoped>\n",
       "    .dataframe tbody tr th:only-of-type {\n",
       "        vertical-align: middle;\n",
       "    }\n",
       "\n",
       "    .dataframe tbody tr th {\n",
       "        vertical-align: top;\n",
       "    }\n",
       "\n",
       "    .dataframe thead th {\n",
       "        text-align: right;\n",
       "    }\n",
       "</style>\n",
       "<table border=\"1\" class=\"dataframe\">\n",
       "  <thead>\n",
       "    <tr style=\"text-align: right;\">\n",
       "      <th></th>\n",
       "      <th>张三</th>\n",
       "      <th>李四</th>\n",
       "    </tr>\n",
       "  </thead>\n",
       "  <tbody>\n",
       "    <tr>\n",
       "      <th>语文</th>\n",
       "      <td>11</td>\n",
       "      <td>55</td>\n",
       "    </tr>\n",
       "    <tr>\n",
       "      <th>数学</th>\n",
       "      <td>22</td>\n",
       "      <td>66</td>\n",
       "    </tr>\n",
       "    <tr>\n",
       "      <th>英语</th>\n",
       "      <td>33</td>\n",
       "      <td>77</td>\n",
       "    </tr>\n",
       "    <tr>\n",
       "      <th>理综</th>\n",
       "      <td>44</td>\n",
       "      <td>88</td>\n",
       "    </tr>\n",
       "  </tbody>\n",
       "</table>\n",
       "</div>"
      ],
      "text/plain": [
       "    张三  李四\n",
       "语文  11  55\n",
       "数学  22  66\n",
       "英语  33  77\n",
       "理综  44  88"
      ]
     },
     "execution_count": 76,
     "metadata": {},
     "output_type": "execute_result"
    }
   ],
   "source": [
    "(qizhong + qimo) / 2"
   ]
  },
  {
   "cell_type": "code",
   "execution_count": 77,
   "metadata": {},
   "outputs": [
    {
     "data": {
      "text/html": [
       "<div>\n",
       "<style scoped>\n",
       "    .dataframe tbody tr th:only-of-type {\n",
       "        vertical-align: middle;\n",
       "    }\n",
       "\n",
       "    .dataframe tbody tr th {\n",
       "        vertical-align: top;\n",
       "    }\n",
       "\n",
       "    .dataframe thead th {\n",
       "        text-align: right;\n",
       "    }\n",
       "</style>\n",
       "<table border=\"1\" class=\"dataframe\">\n",
       "  <thead>\n",
       "    <tr style=\"text-align: right;\">\n",
       "      <th></th>\n",
       "      <th>张三</th>\n",
       "      <th>李四</th>\n",
       "    </tr>\n",
       "  </thead>\n",
       "  <tbody>\n",
       "    <tr>\n",
       "      <th>语文</th>\n",
       "      <td>11</td>\n",
       "      <td>55</td>\n",
       "    </tr>\n",
       "    <tr>\n",
       "      <th>数学</th>\n",
       "      <td>22</td>\n",
       "      <td>66</td>\n",
       "    </tr>\n",
       "    <tr>\n",
       "      <th>英语</th>\n",
       "      <td>33</td>\n",
       "      <td>77</td>\n",
       "    </tr>\n",
       "    <tr>\n",
       "      <th>理综</th>\n",
       "      <td>44</td>\n",
       "      <td>88</td>\n",
       "    </tr>\n",
       "  </tbody>\n",
       "</table>\n",
       "</div>"
      ],
      "text/plain": [
       "    张三  李四\n",
       "语文  11  55\n",
       "数学  22  66\n",
       "英语  33  77\n",
       "理综  44  88"
      ]
     },
     "execution_count": 77,
     "metadata": {},
     "output_type": "execute_result"
    }
   ],
   "source": [
    "qizhong"
   ]
  },
  {
   "cell_type": "code",
   "execution_count": 79,
   "metadata": {},
   "outputs": [
    {
     "data": {
      "text/html": [
       "<div>\n",
       "<style scoped>\n",
       "    .dataframe tbody tr th:only-of-type {\n",
       "        vertical-align: middle;\n",
       "    }\n",
       "\n",
       "    .dataframe tbody tr th {\n",
       "        vertical-align: top;\n",
       "    }\n",
       "\n",
       "    .dataframe thead th {\n",
       "        text-align: right;\n",
       "    }\n",
       "</style>\n",
       "<table border=\"1\" class=\"dataframe\">\n",
       "  <thead>\n",
       "    <tr style=\"text-align: right;\">\n",
       "      <th></th>\n",
       "      <th>张三</th>\n",
       "      <th>李四</th>\n",
       "    </tr>\n",
       "  </thead>\n",
       "  <tbody>\n",
       "    <tr>\n",
       "      <th>语文</th>\n",
       "      <td>11</td>\n",
       "      <td>55</td>\n",
       "    </tr>\n",
       "    <tr>\n",
       "      <th>数学</th>\n",
       "      <td>0</td>\n",
       "      <td>66</td>\n",
       "    </tr>\n",
       "    <tr>\n",
       "      <th>英语</th>\n",
       "      <td>33</td>\n",
       "      <td>77</td>\n",
       "    </tr>\n",
       "    <tr>\n",
       "      <th>理综</th>\n",
       "      <td>44</td>\n",
       "      <td>88</td>\n",
       "    </tr>\n",
       "  </tbody>\n",
       "</table>\n",
       "</div>"
      ],
      "text/plain": [
       "    张三  李四\n",
       "语文  11  55\n",
       "数学   0  66\n",
       "英语  33  77\n",
       "理综  44  88"
      ]
     },
     "execution_count": 79,
     "metadata": {},
     "output_type": "execute_result"
    }
   ],
   "source": [
    "qizhong.loc['数学','张三'] = 0\n",
    "qizhong"
   ]
  },
  {
   "cell_type": "code",
   "execution_count": 82,
   "metadata": {},
   "outputs": [
    {
     "data": {
      "text/html": [
       "<div>\n",
       "<style scoped>\n",
       "    .dataframe tbody tr th:only-of-type {\n",
       "        vertical-align: middle;\n",
       "    }\n",
       "\n",
       "    .dataframe tbody tr th {\n",
       "        vertical-align: top;\n",
       "    }\n",
       "\n",
       "    .dataframe thead th {\n",
       "        text-align: right;\n",
       "    }\n",
       "</style>\n",
       "<table border=\"1\" class=\"dataframe\">\n",
       "  <thead>\n",
       "    <tr style=\"text-align: right;\">\n",
       "      <th></th>\n",
       "      <th>张三</th>\n",
       "      <th>李四</th>\n",
       "    </tr>\n",
       "  </thead>\n",
       "  <tbody>\n",
       "    <tr>\n",
       "      <th>语文</th>\n",
       "      <td>11</td>\n",
       "      <td>155</td>\n",
       "    </tr>\n",
       "    <tr>\n",
       "      <th>数学</th>\n",
       "      <td>0</td>\n",
       "      <td>166</td>\n",
       "    </tr>\n",
       "    <tr>\n",
       "      <th>英语</th>\n",
       "      <td>33</td>\n",
       "      <td>177</td>\n",
       "    </tr>\n",
       "    <tr>\n",
       "      <th>理综</th>\n",
       "      <td>44</td>\n",
       "      <td>188</td>\n",
       "    </tr>\n",
       "  </tbody>\n",
       "</table>\n",
       "</div>"
      ],
      "text/plain": [
       "    张三   李四\n",
       "语文  11  155\n",
       "数学   0  166\n",
       "英语  33  177\n",
       "理综  44  188"
      ]
     },
     "execution_count": 82,
     "metadata": {},
     "output_type": "execute_result"
    }
   ],
   "source": [
    "qizhong['李四'] += 100\n",
    "qizhong"
   ]
  },
  {
   "cell_type": "code",
   "execution_count": 86,
   "metadata": {},
   "outputs": [
    {
     "data": {
      "text/html": [
       "<div>\n",
       "<style scoped>\n",
       "    .dataframe tbody tr th:only-of-type {\n",
       "        vertical-align: middle;\n",
       "    }\n",
       "\n",
       "    .dataframe tbody tr th {\n",
       "        vertical-align: top;\n",
       "    }\n",
       "\n",
       "    .dataframe thead th {\n",
       "        text-align: right;\n",
       "    }\n",
       "</style>\n",
       "<table border=\"1\" class=\"dataframe\">\n",
       "  <thead>\n",
       "    <tr style=\"text-align: right;\">\n",
       "      <th></th>\n",
       "      <th>张三</th>\n",
       "      <th>李四</th>\n",
       "    </tr>\n",
       "  </thead>\n",
       "  <tbody>\n",
       "    <tr>\n",
       "      <th>语文</th>\n",
       "      <td>41</td>\n",
       "      <td>185</td>\n",
       "    </tr>\n",
       "    <tr>\n",
       "      <th>数学</th>\n",
       "      <td>30</td>\n",
       "      <td>196</td>\n",
       "    </tr>\n",
       "    <tr>\n",
       "      <th>英语</th>\n",
       "      <td>63</td>\n",
       "      <td>207</td>\n",
       "    </tr>\n",
       "    <tr>\n",
       "      <th>理综</th>\n",
       "      <td>74</td>\n",
       "      <td>218</td>\n",
       "    </tr>\n",
       "  </tbody>\n",
       "</table>\n",
       "</div>"
      ],
      "text/plain": [
       "    张三   李四\n",
       "语文  41  185\n",
       "数学  30  196\n",
       "英语  63  207\n",
       "理综  74  218"
      ]
     },
     "execution_count": 86,
     "metadata": {},
     "output_type": "execute_result"
    }
   ],
   "source": [
    "qizhong += 10\n",
    "qizhong"
   ]
  },
  {
   "cell_type": "code",
   "execution_count": null,
   "metadata": {},
   "outputs": [],
   "source": []
  },
  {
   "cell_type": "code",
   "execution_count": 5,
   "metadata": {},
   "outputs": [],
   "source": [
    "#使用tushare包获取某股票的历史行情数据\n",
    "import tushare as ts\n",
    "df = ts.get_k_data(code='600519',start='2000-01-01')\n",
    "df.to_csv('./maotai.csv')"
   ]
  },
  {
   "cell_type": "code",
   "execution_count": 9,
   "metadata": {},
   "outputs": [],
   "source": [
    "df = pd.read_csv('./maotai.csv')\n",
    "#删除df中的某一列\n",
    "df.drop(labels='Unnamed: 0',axis=1,inplace=True)"
   ]
  },
  {
   "cell_type": "code",
   "execution_count": 15,
   "metadata": {},
   "outputs": [],
   "source": [
    "#将df总的date这一列作为源数据的行索引,将字符串i形式的时间数据转换成时间类型\n",
    "df = pd.read_csv('./maotai.csv',index_col='date',parse_dates=['date'])\n",
    "#删除df中的某一列\n",
    "df.drop(labels='Unnamed: 0',axis=1,inplace=True)"
   ]
  },
  {
   "cell_type": "code",
   "execution_count": 16,
   "metadata": {},
   "outputs": [
    {
     "data": {
      "text/html": [
       "<div>\n",
       "<style scoped>\n",
       "    .dataframe tbody tr th:only-of-type {\n",
       "        vertical-align: middle;\n",
       "    }\n",
       "\n",
       "    .dataframe tbody tr th {\n",
       "        vertical-align: top;\n",
       "    }\n",
       "\n",
       "    .dataframe thead th {\n",
       "        text-align: right;\n",
       "    }\n",
       "</style>\n",
       "<table border=\"1\" class=\"dataframe\">\n",
       "  <thead>\n",
       "    <tr style=\"text-align: right;\">\n",
       "      <th></th>\n",
       "      <th>open</th>\n",
       "      <th>close</th>\n",
       "      <th>high</th>\n",
       "      <th>low</th>\n",
       "      <th>volume</th>\n",
       "      <th>code</th>\n",
       "    </tr>\n",
       "    <tr>\n",
       "      <th>date</th>\n",
       "      <th></th>\n",
       "      <th></th>\n",
       "      <th></th>\n",
       "      <th></th>\n",
       "      <th></th>\n",
       "      <th></th>\n",
       "    </tr>\n",
       "  </thead>\n",
       "  <tbody>\n",
       "    <tr>\n",
       "      <th>2001-08-27</th>\n",
       "      <td>5.392</td>\n",
       "      <td>5.554</td>\n",
       "      <td>5.902</td>\n",
       "      <td>5.132</td>\n",
       "      <td>406318.00</td>\n",
       "      <td>600519</td>\n",
       "    </tr>\n",
       "    <tr>\n",
       "      <th>2001-08-28</th>\n",
       "      <td>5.467</td>\n",
       "      <td>5.759</td>\n",
       "      <td>5.781</td>\n",
       "      <td>5.407</td>\n",
       "      <td>129647.79</td>\n",
       "      <td>600519</td>\n",
       "    </tr>\n",
       "    <tr>\n",
       "      <th>2001-08-29</th>\n",
       "      <td>5.777</td>\n",
       "      <td>5.684</td>\n",
       "      <td>5.781</td>\n",
       "      <td>5.640</td>\n",
       "      <td>53252.75</td>\n",
       "      <td>600519</td>\n",
       "    </tr>\n",
       "    <tr>\n",
       "      <th>2001-08-30</th>\n",
       "      <td>5.668</td>\n",
       "      <td>5.796</td>\n",
       "      <td>5.860</td>\n",
       "      <td>5.624</td>\n",
       "      <td>48013.06</td>\n",
       "      <td>600519</td>\n",
       "    </tr>\n",
       "    <tr>\n",
       "      <th>2001-08-31</th>\n",
       "      <td>5.804</td>\n",
       "      <td>5.782</td>\n",
       "      <td>5.877</td>\n",
       "      <td>5.749</td>\n",
       "      <td>23231.48</td>\n",
       "      <td>600519</td>\n",
       "    </tr>\n",
       "  </tbody>\n",
       "</table>\n",
       "</div>"
      ],
      "text/plain": [
       "             open  close   high    low     volume    code\n",
       "date                                                     \n",
       "2001-08-27  5.392  5.554  5.902  5.132  406318.00  600519\n",
       "2001-08-28  5.467  5.759  5.781  5.407  129647.79  600519\n",
       "2001-08-29  5.777  5.684  5.781  5.640   53252.75  600519\n",
       "2001-08-30  5.668  5.796  5.860  5.624   48013.06  600519\n",
       "2001-08-31  5.804  5.782  5.877  5.749   23231.48  600519"
      ]
     },
     "execution_count": 16,
     "metadata": {},
     "output_type": "execute_result"
    }
   ],
   "source": [
    "#输出该股票所有收盘比开盘上涨3%以上的日期。\n",
    "df.head(5)"
   ]
  },
  {
   "cell_type": "code",
   "execution_count": 18,
   "metadata": {},
   "outputs": [
    {
     "data": {
      "text/plain": [
       "Timestamp('2001-08-27 00:00:00')"
      ]
     },
     "execution_count": 18,
     "metadata": {},
     "output_type": "execute_result"
    }
   ],
   "source": [
    "#验证行索引的数据类型\n",
    "df.index[0]"
   ]
  },
  {
   "cell_type": "code",
   "execution_count": 26,
   "metadata": {},
   "outputs": [
    {
     "data": {
      "text/plain": [
       "DatetimeIndex(['2001-08-27', '2001-08-28', '2001-09-10', '2001-12-21',\n",
       "               '2002-01-18', '2002-01-31', '2003-01-14', '2003-10-29',\n",
       "               '2004-01-05', '2004-01-14',\n",
       "               ...\n",
       "               '2019-01-15', '2019-02-11', '2019-03-01', '2019-03-18',\n",
       "               '2019-04-10', '2019-04-16', '2019-05-10', '2019-05-15',\n",
       "               '2019-06-11', '2019-06-20'],\n",
       "              dtype='datetime64[ns]', name='date', length=301, freq=None)"
      ]
     },
     "execution_count": 26,
     "metadata": {},
     "output_type": "execute_result"
    }
   ],
   "source": [
    "#输出该股票所有收盘比开盘上涨3%以上的日期。\n",
    "#(收盘-开盘)/开盘 > 0.03\n",
    "(df['close'] - df['open']) / df['open'] > 0.03\n",
    "#一旦遇到了一组布尔值，直接将布尔值作为源数据的行索引\n",
    "df.loc[(df['close'] - df['open']) / df['open'] > 0.03]\n",
    "#将行索引取出\n",
    "df.loc[(df['close'] - df['open']) / df['open'] > 0.03].index"
   ]
  },
  {
   "cell_type": "code",
   "execution_count": 31,
   "metadata": {
    "collapsed": true
   },
   "outputs": [
    {
     "data": {
      "text/plain": [
       "DatetimeIndex(['2001-09-12', '2002-06-26', '2002-12-13', '2004-07-01',\n",
       "               '2004-10-29', '2006-08-21', '2006-08-23', '2007-01-25',\n",
       "               '2007-02-01', '2007-02-06', '2007-03-19', '2007-05-21',\n",
       "               '2007-05-30', '2007-06-05', '2007-07-27', '2007-09-05',\n",
       "               '2007-09-10', '2008-03-13', '2008-03-17', '2008-03-25',\n",
       "               '2008-03-27', '2008-04-22', '2008-04-23', '2008-04-29',\n",
       "               '2008-05-13', '2008-06-10', '2008-06-13', '2008-06-24',\n",
       "               '2008-06-27', '2008-08-11', '2008-08-19', '2008-09-23',\n",
       "               '2008-10-10', '2008-10-15', '2008-10-16', '2008-10-20',\n",
       "               '2008-10-23', '2008-10-27', '2008-11-06', '2008-11-12',\n",
       "               '2008-11-20', '2008-11-21', '2008-12-02', '2009-02-27',\n",
       "               '2009-03-25', '2009-08-13', '2010-04-26', '2010-04-30',\n",
       "               '2011-08-05', '2012-03-27', '2012-08-10', '2012-11-22',\n",
       "               '2012-12-04', '2012-12-24', '2013-01-16', '2013-01-25',\n",
       "               '2013-09-02', '2014-04-25', '2015-01-19', '2015-05-25',\n",
       "               '2015-07-03', '2015-07-08', '2015-07-13', '2015-08-24',\n",
       "               '2015-09-02', '2015-09-15', '2017-11-17', '2018-02-06',\n",
       "               '2018-02-09', '2018-03-23', '2018-03-28', '2018-07-11',\n",
       "               '2018-10-11', '2018-10-24', '2018-10-25', '2018-10-29',\n",
       "               '2018-10-30', '2019-05-06', '2019-05-08'],\n",
       "              dtype='datetime64[ns]', name='date', freq=None)"
      ]
     },
     "execution_count": 31,
     "metadata": {},
     "output_type": "execute_result"
    }
   ],
   "source": [
    "#输出该股票所有开盘比前日收盘跌幅超过2%的日期。\n",
    "#(开盘-前日收盘)/前日收盘  < -0.02\n",
    "(df['open'] - df['close'].shift(1))/df['close'].shift(1) < -0.02\n",
    "df.loc[(df['open'] - df['close'].shift(1))/df['close'].shift(1) < -0.02]\n",
    "df.loc[(df['open'] - df['close'].shift(1))/df['close'].shift(1) < -0.02].index"
   ]
  },
  {
   "cell_type": "code",
   "execution_count": null,
   "metadata": {},
   "outputs": [],
   "source": [
    "#假如我从2010年1月1日开始，每月第一个交易日买入1手股票，每年最后一个交易日卖出所有股票，到今天为止，我的收益如何？"
   ]
  },
  {
   "cell_type": "code",
   "execution_count": 37,
   "metadata": {
    "collapsed": true
   },
   "outputs": [
    {
     "data": {
      "text/html": [
       "<div>\n",
       "<style scoped>\n",
       "    .dataframe tbody tr th:only-of-type {\n",
       "        vertical-align: middle;\n",
       "    }\n",
       "\n",
       "    .dataframe tbody tr th {\n",
       "        vertical-align: top;\n",
       "    }\n",
       "\n",
       "    .dataframe thead th {\n",
       "        text-align: right;\n",
       "    }\n",
       "</style>\n",
       "<table border=\"1\" class=\"dataframe\">\n",
       "  <thead>\n",
       "    <tr style=\"text-align: right;\">\n",
       "      <th></th>\n",
       "      <th>open</th>\n",
       "      <th>close</th>\n",
       "      <th>high</th>\n",
       "      <th>low</th>\n",
       "      <th>volume</th>\n",
       "      <th>code</th>\n",
       "    </tr>\n",
       "    <tr>\n",
       "      <th>date</th>\n",
       "      <th></th>\n",
       "      <th></th>\n",
       "      <th></th>\n",
       "      <th></th>\n",
       "      <th></th>\n",
       "      <th></th>\n",
       "    </tr>\n",
       "  </thead>\n",
       "  <tbody>\n",
       "    <tr>\n",
       "      <th>2010-01-04</th>\n",
       "      <td>109.760</td>\n",
       "      <td>108.446</td>\n",
       "      <td>109.760</td>\n",
       "      <td>108.044</td>\n",
       "      <td>44304.88</td>\n",
       "      <td>600519</td>\n",
       "    </tr>\n",
       "    <tr>\n",
       "      <th>2010-01-05</th>\n",
       "      <td>109.116</td>\n",
       "      <td>108.127</td>\n",
       "      <td>109.441</td>\n",
       "      <td>107.846</td>\n",
       "      <td>31513.18</td>\n",
       "      <td>600519</td>\n",
       "    </tr>\n",
       "    <tr>\n",
       "      <th>2010-01-06</th>\n",
       "      <td>107.840</td>\n",
       "      <td>106.417</td>\n",
       "      <td>108.165</td>\n",
       "      <td>106.129</td>\n",
       "      <td>39889.03</td>\n",
       "      <td>600519</td>\n",
       "    </tr>\n",
       "    <tr>\n",
       "      <th>2010-01-07</th>\n",
       "      <td>106.417</td>\n",
       "      <td>104.477</td>\n",
       "      <td>106.691</td>\n",
       "      <td>103.302</td>\n",
       "      <td>48825.55</td>\n",
       "      <td>600519</td>\n",
       "    </tr>\n",
       "    <tr>\n",
       "      <th>2010-01-08</th>\n",
       "      <td>104.655</td>\n",
       "      <td>103.379</td>\n",
       "      <td>104.655</td>\n",
       "      <td>102.167</td>\n",
       "      <td>36702.09</td>\n",
       "      <td>600519</td>\n",
       "    </tr>\n",
       "    <tr>\n",
       "      <th>2010-01-11</th>\n",
       "      <td>104.400</td>\n",
       "      <td>102.926</td>\n",
       "      <td>105.230</td>\n",
       "      <td>102.422</td>\n",
       "      <td>24461.03</td>\n",
       "      <td>600519</td>\n",
       "    </tr>\n",
       "    <tr>\n",
       "      <th>2010-01-12</th>\n",
       "      <td>103.028</td>\n",
       "      <td>105.708</td>\n",
       "      <td>106.040</td>\n",
       "      <td>102.492</td>\n",
       "      <td>31063.40</td>\n",
       "      <td>600519</td>\n",
       "    </tr>\n",
       "    <tr>\n",
       "      <th>2010-01-13</th>\n",
       "      <td>104.649</td>\n",
       "      <td>103.022</td>\n",
       "      <td>105.389</td>\n",
       "      <td>102.741</td>\n",
       "      <td>37924.44</td>\n",
       "      <td>600519</td>\n",
       "    </tr>\n",
       "    <tr>\n",
       "      <th>2010-01-14</th>\n",
       "      <td>103.379</td>\n",
       "      <td>107.552</td>\n",
       "      <td>107.974</td>\n",
       "      <td>103.379</td>\n",
       "      <td>46454.64</td>\n",
       "      <td>600519</td>\n",
       "    </tr>\n",
       "    <tr>\n",
       "      <th>2010-01-15</th>\n",
       "      <td>107.533</td>\n",
       "      <td>108.401</td>\n",
       "      <td>110.641</td>\n",
       "      <td>107.533</td>\n",
       "      <td>45938.50</td>\n",
       "      <td>600519</td>\n",
       "    </tr>\n",
       "    <tr>\n",
       "      <th>2010-01-18</th>\n",
       "      <td>108.484</td>\n",
       "      <td>109.110</td>\n",
       "      <td>109.926</td>\n",
       "      <td>108.420</td>\n",
       "      <td>21461.53</td>\n",
       "      <td>600519</td>\n",
       "    </tr>\n",
       "    <tr>\n",
       "      <th>2010-01-19</th>\n",
       "      <td>109.116</td>\n",
       "      <td>108.337</td>\n",
       "      <td>109.441</td>\n",
       "      <td>108.165</td>\n",
       "      <td>17818.91</td>\n",
       "      <td>600519</td>\n",
       "    </tr>\n",
       "    <tr>\n",
       "      <th>2010-01-20</th>\n",
       "      <td>108.427</td>\n",
       "      <td>105.881</td>\n",
       "      <td>108.580</td>\n",
       "      <td>105.804</td>\n",
       "      <td>20972.95</td>\n",
       "      <td>600519</td>\n",
       "    </tr>\n",
       "    <tr>\n",
       "      <th>2010-01-21</th>\n",
       "      <td>105.842</td>\n",
       "      <td>106.397</td>\n",
       "      <td>107.450</td>\n",
       "      <td>105.613</td>\n",
       "      <td>17257.48</td>\n",
       "      <td>600519</td>\n",
       "    </tr>\n",
       "    <tr>\n",
       "      <th>2010-01-22</th>\n",
       "      <td>106.314</td>\n",
       "      <td>104.738</td>\n",
       "      <td>106.755</td>\n",
       "      <td>103.309</td>\n",
       "      <td>25432.94</td>\n",
       "      <td>600519</td>\n",
       "    </tr>\n",
       "    <tr>\n",
       "      <th>2010-01-25</th>\n",
       "      <td>104.560</td>\n",
       "      <td>105.957</td>\n",
       "      <td>106.761</td>\n",
       "      <td>103.704</td>\n",
       "      <td>23239.15</td>\n",
       "      <td>600519</td>\n",
       "    </tr>\n",
       "    <tr>\n",
       "      <th>2010-01-26</th>\n",
       "      <td>107.380</td>\n",
       "      <td>106.378</td>\n",
       "      <td>108.593</td>\n",
       "      <td>105.038</td>\n",
       "      <td>32889.16</td>\n",
       "      <td>600519</td>\n",
       "    </tr>\n",
       "    <tr>\n",
       "      <th>2010-01-27</th>\n",
       "      <td>105.951</td>\n",
       "      <td>104.643</td>\n",
       "      <td>107.068</td>\n",
       "      <td>104.400</td>\n",
       "      <td>19316.57</td>\n",
       "      <td>600519</td>\n",
       "    </tr>\n",
       "    <tr>\n",
       "      <th>2010-01-28</th>\n",
       "      <td>104.566</td>\n",
       "      <td>107.974</td>\n",
       "      <td>108.708</td>\n",
       "      <td>104.336</td>\n",
       "      <td>30267.52</td>\n",
       "      <td>600519</td>\n",
       "    </tr>\n",
       "    <tr>\n",
       "      <th>2010-01-29</th>\n",
       "      <td>108.452</td>\n",
       "      <td>107.552</td>\n",
       "      <td>108.612</td>\n",
       "      <td>107.004</td>\n",
       "      <td>37172.82</td>\n",
       "      <td>600519</td>\n",
       "    </tr>\n",
       "    <tr>\n",
       "      <th>2010-02-01</th>\n",
       "      <td>107.769</td>\n",
       "      <td>107.776</td>\n",
       "      <td>108.216</td>\n",
       "      <td>106.576</td>\n",
       "      <td>29655.94</td>\n",
       "      <td>600519</td>\n",
       "    </tr>\n",
       "    <tr>\n",
       "      <th>2010-02-02</th>\n",
       "      <td>107.208</td>\n",
       "      <td>106.263</td>\n",
       "      <td>108.484</td>\n",
       "      <td>106.117</td>\n",
       "      <td>15493.53</td>\n",
       "      <td>600519</td>\n",
       "    </tr>\n",
       "    <tr>\n",
       "      <th>2010-02-03</th>\n",
       "      <td>106.066</td>\n",
       "      <td>105.887</td>\n",
       "      <td>107.272</td>\n",
       "      <td>104.783</td>\n",
       "      <td>23034.65</td>\n",
       "      <td>600519</td>\n",
       "    </tr>\n",
       "    <tr>\n",
       "      <th>2010-02-04</th>\n",
       "      <td>105.868</td>\n",
       "      <td>107.591</td>\n",
       "      <td>108.006</td>\n",
       "      <td>105.376</td>\n",
       "      <td>22475.33</td>\n",
       "      <td>600519</td>\n",
       "    </tr>\n",
       "    <tr>\n",
       "      <th>2010-02-05</th>\n",
       "      <td>106.959</td>\n",
       "      <td>109.282</td>\n",
       "      <td>109.684</td>\n",
       "      <td>106.570</td>\n",
       "      <td>26234.30</td>\n",
       "      <td>600519</td>\n",
       "    </tr>\n",
       "    <tr>\n",
       "      <th>2010-02-08</th>\n",
       "      <td>109.282</td>\n",
       "      <td>109.269</td>\n",
       "      <td>112.058</td>\n",
       "      <td>108.816</td>\n",
       "      <td>31496.10</td>\n",
       "      <td>600519</td>\n",
       "    </tr>\n",
       "    <tr>\n",
       "      <th>2010-02-09</th>\n",
       "      <td>109.760</td>\n",
       "      <td>109.193</td>\n",
       "      <td>110.609</td>\n",
       "      <td>108.822</td>\n",
       "      <td>14151.24</td>\n",
       "      <td>600519</td>\n",
       "    </tr>\n",
       "    <tr>\n",
       "      <th>2010-02-10</th>\n",
       "      <td>109.760</td>\n",
       "      <td>109.652</td>\n",
       "      <td>110.137</td>\n",
       "      <td>108.931</td>\n",
       "      <td>6398.14</td>\n",
       "      <td>600519</td>\n",
       "    </tr>\n",
       "    <tr>\n",
       "      <th>2010-02-11</th>\n",
       "      <td>109.633</td>\n",
       "      <td>110.641</td>\n",
       "      <td>111.318</td>\n",
       "      <td>109.505</td>\n",
       "      <td>14945.05</td>\n",
       "      <td>600519</td>\n",
       "    </tr>\n",
       "    <tr>\n",
       "      <th>2010-02-12</th>\n",
       "      <td>111.018</td>\n",
       "      <td>110.456</td>\n",
       "      <td>111.164</td>\n",
       "      <td>109.888</td>\n",
       "      <td>9346.40</td>\n",
       "      <td>600519</td>\n",
       "    </tr>\n",
       "    <tr>\n",
       "      <th>...</th>\n",
       "      <td>...</td>\n",
       "      <td>...</td>\n",
       "      <td>...</td>\n",
       "      <td>...</td>\n",
       "      <td>...</td>\n",
       "      <td>...</td>\n",
       "    </tr>\n",
       "    <tr>\n",
       "      <th>2019-07-24</th>\n",
       "      <td>958.310</td>\n",
       "      <td>946.360</td>\n",
       "      <td>959.900</td>\n",
       "      <td>944.690</td>\n",
       "      <td>46771.00</td>\n",
       "      <td>600519</td>\n",
       "    </tr>\n",
       "    <tr>\n",
       "      <th>2019-07-25</th>\n",
       "      <td>945.970</td>\n",
       "      <td>963.000</td>\n",
       "      <td>963.360</td>\n",
       "      <td>938.150</td>\n",
       "      <td>38255.00</td>\n",
       "      <td>600519</td>\n",
       "    </tr>\n",
       "    <tr>\n",
       "      <th>2019-07-26</th>\n",
       "      <td>961.970</td>\n",
       "      <td>965.030</td>\n",
       "      <td>971.000</td>\n",
       "      <td>958.550</td>\n",
       "      <td>26467.00</td>\n",
       "      <td>600519</td>\n",
       "    </tr>\n",
       "    <tr>\n",
       "      <th>2019-07-29</th>\n",
       "      <td>962.030</td>\n",
       "      <td>976.410</td>\n",
       "      <td>979.500</td>\n",
       "      <td>960.010</td>\n",
       "      <td>26981.00</td>\n",
       "      <td>600519</td>\n",
       "    </tr>\n",
       "    <tr>\n",
       "      <th>2019-07-30</th>\n",
       "      <td>976.500</td>\n",
       "      <td>978.930</td>\n",
       "      <td>983.000</td>\n",
       "      <td>971.000</td>\n",
       "      <td>19537.00</td>\n",
       "      <td>600519</td>\n",
       "    </tr>\n",
       "    <tr>\n",
       "      <th>2019-07-31</th>\n",
       "      <td>975.000</td>\n",
       "      <td>972.600</td>\n",
       "      <td>981.770</td>\n",
       "      <td>966.590</td>\n",
       "      <td>22526.00</td>\n",
       "      <td>600519</td>\n",
       "    </tr>\n",
       "    <tr>\n",
       "      <th>2019-08-01</th>\n",
       "      <td>976.510</td>\n",
       "      <td>959.300</td>\n",
       "      <td>977.000</td>\n",
       "      <td>953.020</td>\n",
       "      <td>35089.00</td>\n",
       "      <td>600519</td>\n",
       "    </tr>\n",
       "    <tr>\n",
       "      <th>2019-08-02</th>\n",
       "      <td>944.000</td>\n",
       "      <td>954.450</td>\n",
       "      <td>957.980</td>\n",
       "      <td>943.000</td>\n",
       "      <td>39719.00</td>\n",
       "      <td>600519</td>\n",
       "    </tr>\n",
       "    <tr>\n",
       "      <th>2019-08-05</th>\n",
       "      <td>945.000</td>\n",
       "      <td>942.430</td>\n",
       "      <td>954.000</td>\n",
       "      <td>940.000</td>\n",
       "      <td>36774.00</td>\n",
       "      <td>600519</td>\n",
       "    </tr>\n",
       "    <tr>\n",
       "      <th>2019-08-06</th>\n",
       "      <td>931.000</td>\n",
       "      <td>946.300</td>\n",
       "      <td>948.000</td>\n",
       "      <td>923.800</td>\n",
       "      <td>43991.00</td>\n",
       "      <td>600519</td>\n",
       "    </tr>\n",
       "    <tr>\n",
       "      <th>2019-08-07</th>\n",
       "      <td>949.500</td>\n",
       "      <td>945.000</td>\n",
       "      <td>955.530</td>\n",
       "      <td>945.000</td>\n",
       "      <td>26869.00</td>\n",
       "      <td>600519</td>\n",
       "    </tr>\n",
       "    <tr>\n",
       "      <th>2019-08-08</th>\n",
       "      <td>953.500</td>\n",
       "      <td>971.680</td>\n",
       "      <td>974.000</td>\n",
       "      <td>952.000</td>\n",
       "      <td>38808.00</td>\n",
       "      <td>600519</td>\n",
       "    </tr>\n",
       "    <tr>\n",
       "      <th>2019-08-09</th>\n",
       "      <td>978.500</td>\n",
       "      <td>962.030</td>\n",
       "      <td>980.950</td>\n",
       "      <td>958.990</td>\n",
       "      <td>28461.00</td>\n",
       "      <td>600519</td>\n",
       "    </tr>\n",
       "    <tr>\n",
       "      <th>2019-08-12</th>\n",
       "      <td>1010.310</td>\n",
       "      <td>1018.630</td>\n",
       "      <td>1020.100</td>\n",
       "      <td>995.010</td>\n",
       "      <td>81498.00</td>\n",
       "      <td>600519</td>\n",
       "    </tr>\n",
       "    <tr>\n",
       "      <th>2019-08-13</th>\n",
       "      <td>1016.160</td>\n",
       "      <td>1017.950</td>\n",
       "      <td>1026.000</td>\n",
       "      <td>1010.680</td>\n",
       "      <td>30329.00</td>\n",
       "      <td>600519</td>\n",
       "    </tr>\n",
       "    <tr>\n",
       "      <th>2019-08-14</th>\n",
       "      <td>1030.020</td>\n",
       "      <td>1043.330</td>\n",
       "      <td>1051.900</td>\n",
       "      <td>1030.020</td>\n",
       "      <td>41410.00</td>\n",
       "      <td>600519</td>\n",
       "    </tr>\n",
       "    <tr>\n",
       "      <th>2019-08-15</th>\n",
       "      <td>1028.000</td>\n",
       "      <td>1044.900</td>\n",
       "      <td>1046.480</td>\n",
       "      <td>1028.000</td>\n",
       "      <td>27237.00</td>\n",
       "      <td>600519</td>\n",
       "    </tr>\n",
       "    <tr>\n",
       "      <th>2019-08-16</th>\n",
       "      <td>1049.840</td>\n",
       "      <td>1054.600</td>\n",
       "      <td>1075.580</td>\n",
       "      <td>1041.000</td>\n",
       "      <td>36086.00</td>\n",
       "      <td>600519</td>\n",
       "    </tr>\n",
       "    <tr>\n",
       "      <th>2019-08-19</th>\n",
       "      <td>1061.000</td>\n",
       "      <td>1055.880</td>\n",
       "      <td>1069.980</td>\n",
       "      <td>1049.050</td>\n",
       "      <td>32867.00</td>\n",
       "      <td>600519</td>\n",
       "    </tr>\n",
       "    <tr>\n",
       "      <th>2019-08-20</th>\n",
       "      <td>1055.000</td>\n",
       "      <td>1070.000</td>\n",
       "      <td>1073.680</td>\n",
       "      <td>1050.000</td>\n",
       "      <td>28602.00</td>\n",
       "      <td>600519</td>\n",
       "    </tr>\n",
       "    <tr>\n",
       "      <th>2019-08-21</th>\n",
       "      <td>1070.100</td>\n",
       "      <td>1066.000</td>\n",
       "      <td>1076.970</td>\n",
       "      <td>1061.660</td>\n",
       "      <td>25066.00</td>\n",
       "      <td>600519</td>\n",
       "    </tr>\n",
       "    <tr>\n",
       "      <th>2019-08-22</th>\n",
       "      <td>1072.990</td>\n",
       "      <td>1104.000</td>\n",
       "      <td>1104.000</td>\n",
       "      <td>1070.000</td>\n",
       "      <td>37590.00</td>\n",
       "      <td>600519</td>\n",
       "    </tr>\n",
       "    <tr>\n",
       "      <th>2019-08-23</th>\n",
       "      <td>1105.000</td>\n",
       "      <td>1130.100</td>\n",
       "      <td>1133.560</td>\n",
       "      <td>1095.620</td>\n",
       "      <td>40192.00</td>\n",
       "      <td>600519</td>\n",
       "    </tr>\n",
       "    <tr>\n",
       "      <th>2019-08-26</th>\n",
       "      <td>1113.000</td>\n",
       "      <td>1102.950</td>\n",
       "      <td>1128.000</td>\n",
       "      <td>1096.680</td>\n",
       "      <td>48497.00</td>\n",
       "      <td>600519</td>\n",
       "    </tr>\n",
       "    <tr>\n",
       "      <th>2019-08-27</th>\n",
       "      <td>1117.000</td>\n",
       "      <td>1109.000</td>\n",
       "      <td>1131.310</td>\n",
       "      <td>1109.000</td>\n",
       "      <td>52164.00</td>\n",
       "      <td>600519</td>\n",
       "    </tr>\n",
       "    <tr>\n",
       "      <th>2019-08-28</th>\n",
       "      <td>1109.000</td>\n",
       "      <td>1100.110</td>\n",
       "      <td>1123.190</td>\n",
       "      <td>1083.010</td>\n",
       "      <td>47009.00</td>\n",
       "      <td>600519</td>\n",
       "    </tr>\n",
       "    <tr>\n",
       "      <th>2019-08-29</th>\n",
       "      <td>1105.000</td>\n",
       "      <td>1113.100</td>\n",
       "      <td>1118.180</td>\n",
       "      <td>1092.500</td>\n",
       "      <td>29330.00</td>\n",
       "      <td>600519</td>\n",
       "    </tr>\n",
       "    <tr>\n",
       "      <th>2019-08-30</th>\n",
       "      <td>1125.000</td>\n",
       "      <td>1142.000</td>\n",
       "      <td>1146.000</td>\n",
       "      <td>1123.000</td>\n",
       "      <td>44890.00</td>\n",
       "      <td>600519</td>\n",
       "    </tr>\n",
       "    <tr>\n",
       "      <th>2019-09-02</th>\n",
       "      <td>1139.990</td>\n",
       "      <td>1138.760</td>\n",
       "      <td>1144.980</td>\n",
       "      <td>1129.000</td>\n",
       "      <td>28234.00</td>\n",
       "      <td>600519</td>\n",
       "    </tr>\n",
       "    <tr>\n",
       "      <th>2019-09-03</th>\n",
       "      <td>1140.000</td>\n",
       "      <td>1140.000</td>\n",
       "      <td>1151.020</td>\n",
       "      <td>1128.560</td>\n",
       "      <td>29485.00</td>\n",
       "      <td>600519</td>\n",
       "    </tr>\n",
       "  </tbody>\n",
       "</table>\n",
       "<p>2346 rows × 6 columns</p>\n",
       "</div>"
      ],
      "text/plain": [
       "                open     close      high       low    volume    code\n",
       "date                                                                \n",
       "2010-01-04   109.760   108.446   109.760   108.044  44304.88  600519\n",
       "2010-01-05   109.116   108.127   109.441   107.846  31513.18  600519\n",
       "2010-01-06   107.840   106.417   108.165   106.129  39889.03  600519\n",
       "2010-01-07   106.417   104.477   106.691   103.302  48825.55  600519\n",
       "2010-01-08   104.655   103.379   104.655   102.167  36702.09  600519\n",
       "2010-01-11   104.400   102.926   105.230   102.422  24461.03  600519\n",
       "2010-01-12   103.028   105.708   106.040   102.492  31063.40  600519\n",
       "2010-01-13   104.649   103.022   105.389   102.741  37924.44  600519\n",
       "2010-01-14   103.379   107.552   107.974   103.379  46454.64  600519\n",
       "2010-01-15   107.533   108.401   110.641   107.533  45938.50  600519\n",
       "2010-01-18   108.484   109.110   109.926   108.420  21461.53  600519\n",
       "2010-01-19   109.116   108.337   109.441   108.165  17818.91  600519\n",
       "2010-01-20   108.427   105.881   108.580   105.804  20972.95  600519\n",
       "2010-01-21   105.842   106.397   107.450   105.613  17257.48  600519\n",
       "2010-01-22   106.314   104.738   106.755   103.309  25432.94  600519\n",
       "2010-01-25   104.560   105.957   106.761   103.704  23239.15  600519\n",
       "2010-01-26   107.380   106.378   108.593   105.038  32889.16  600519\n",
       "2010-01-27   105.951   104.643   107.068   104.400  19316.57  600519\n",
       "2010-01-28   104.566   107.974   108.708   104.336  30267.52  600519\n",
       "2010-01-29   108.452   107.552   108.612   107.004  37172.82  600519\n",
       "2010-02-01   107.769   107.776   108.216   106.576  29655.94  600519\n",
       "2010-02-02   107.208   106.263   108.484   106.117  15493.53  600519\n",
       "2010-02-03   106.066   105.887   107.272   104.783  23034.65  600519\n",
       "2010-02-04   105.868   107.591   108.006   105.376  22475.33  600519\n",
       "2010-02-05   106.959   109.282   109.684   106.570  26234.30  600519\n",
       "2010-02-08   109.282   109.269   112.058   108.816  31496.10  600519\n",
       "2010-02-09   109.760   109.193   110.609   108.822  14151.24  600519\n",
       "2010-02-10   109.760   109.652   110.137   108.931   6398.14  600519\n",
       "2010-02-11   109.633   110.641   111.318   109.505  14945.05  600519\n",
       "2010-02-12   111.018   110.456   111.164   109.888   9346.40  600519\n",
       "...              ...       ...       ...       ...       ...     ...\n",
       "2019-07-24   958.310   946.360   959.900   944.690  46771.00  600519\n",
       "2019-07-25   945.970   963.000   963.360   938.150  38255.00  600519\n",
       "2019-07-26   961.970   965.030   971.000   958.550  26467.00  600519\n",
       "2019-07-29   962.030   976.410   979.500   960.010  26981.00  600519\n",
       "2019-07-30   976.500   978.930   983.000   971.000  19537.00  600519\n",
       "2019-07-31   975.000   972.600   981.770   966.590  22526.00  600519\n",
       "2019-08-01   976.510   959.300   977.000   953.020  35089.00  600519\n",
       "2019-08-02   944.000   954.450   957.980   943.000  39719.00  600519\n",
       "2019-08-05   945.000   942.430   954.000   940.000  36774.00  600519\n",
       "2019-08-06   931.000   946.300   948.000   923.800  43991.00  600519\n",
       "2019-08-07   949.500   945.000   955.530   945.000  26869.00  600519\n",
       "2019-08-08   953.500   971.680   974.000   952.000  38808.00  600519\n",
       "2019-08-09   978.500   962.030   980.950   958.990  28461.00  600519\n",
       "2019-08-12  1010.310  1018.630  1020.100   995.010  81498.00  600519\n",
       "2019-08-13  1016.160  1017.950  1026.000  1010.680  30329.00  600519\n",
       "2019-08-14  1030.020  1043.330  1051.900  1030.020  41410.00  600519\n",
       "2019-08-15  1028.000  1044.900  1046.480  1028.000  27237.00  600519\n",
       "2019-08-16  1049.840  1054.600  1075.580  1041.000  36086.00  600519\n",
       "2019-08-19  1061.000  1055.880  1069.980  1049.050  32867.00  600519\n",
       "2019-08-20  1055.000  1070.000  1073.680  1050.000  28602.00  600519\n",
       "2019-08-21  1070.100  1066.000  1076.970  1061.660  25066.00  600519\n",
       "2019-08-22  1072.990  1104.000  1104.000  1070.000  37590.00  600519\n",
       "2019-08-23  1105.000  1130.100  1133.560  1095.620  40192.00  600519\n",
       "2019-08-26  1113.000  1102.950  1128.000  1096.680  48497.00  600519\n",
       "2019-08-27  1117.000  1109.000  1131.310  1109.000  52164.00  600519\n",
       "2019-08-28  1109.000  1100.110  1123.190  1083.010  47009.00  600519\n",
       "2019-08-29  1105.000  1113.100  1118.180  1092.500  29330.00  600519\n",
       "2019-08-30  1125.000  1142.000  1146.000  1123.000  44890.00  600519\n",
       "2019-09-02  1139.990  1138.760  1144.980  1129.000  28234.00  600519\n",
       "2019-09-03  1140.000  1140.000  1151.020  1128.560  29485.00  600519\n",
       "\n",
       "[2346 rows x 6 columns]"
      ]
     },
     "execution_count": 37,
     "metadata": {},
     "output_type": "execute_result"
    }
   ],
   "source": [
    "#2010-2019\n",
    "new_df = df['2010-01-01':'2019-09-03']\n",
    "new_df"
   ]
  },
  {
   "cell_type": "code",
   "execution_count": 43,
   "metadata": {},
   "outputs": [],
   "source": [
    "#将买股票对应的行数据找出\n",
    "    #- 在new_df中将每个月的第一个交易日的行数据取出\n",
    "    #- 将每一行中的open值取出\n",
    "df_monthly = new_df.resample('M').first()\n",
    "df_yearly = new_df.resample('A').last()[:-1]"
   ]
  },
  {
   "cell_type": "code",
   "execution_count": 45,
   "metadata": {},
   "outputs": [
    {
     "data": {
      "text/plain": [
       "3453686.0999999996"
      ]
     },
     "execution_count": 45,
     "metadata": {},
     "output_type": "execute_result"
    }
   ],
   "source": [
    "cost_monty = df_monthly['open'].sum()*100\n",
    "cost_monty"
   ]
  },
  {
   "cell_type": "code",
   "execution_count": 46,
   "metadata": {},
   "outputs": [
    {
     "data": {
      "text/html": [
       "<div>\n",
       "<style scoped>\n",
       "    .dataframe tbody tr th:only-of-type {\n",
       "        vertical-align: middle;\n",
       "    }\n",
       "\n",
       "    .dataframe tbody tr th {\n",
       "        vertical-align: top;\n",
       "    }\n",
       "\n",
       "    .dataframe thead th {\n",
       "        text-align: right;\n",
       "    }\n",
       "</style>\n",
       "<table border=\"1\" class=\"dataframe\">\n",
       "  <thead>\n",
       "    <tr style=\"text-align: right;\">\n",
       "      <th></th>\n",
       "      <th>open</th>\n",
       "      <th>close</th>\n",
       "      <th>high</th>\n",
       "      <th>low</th>\n",
       "      <th>volume</th>\n",
       "      <th>code</th>\n",
       "    </tr>\n",
       "    <tr>\n",
       "      <th>date</th>\n",
       "      <th></th>\n",
       "      <th></th>\n",
       "      <th></th>\n",
       "      <th></th>\n",
       "      <th></th>\n",
       "      <th></th>\n",
       "    </tr>\n",
       "  </thead>\n",
       "  <tbody>\n",
       "    <tr>\n",
       "      <th>2010-12-31</th>\n",
       "      <td>117.103</td>\n",
       "      <td>118.469</td>\n",
       "      <td>118.701</td>\n",
       "      <td>116.620</td>\n",
       "      <td>46084.0</td>\n",
       "      <td>600519</td>\n",
       "    </tr>\n",
       "    <tr>\n",
       "      <th>2011-12-31</th>\n",
       "      <td>138.039</td>\n",
       "      <td>138.468</td>\n",
       "      <td>139.600</td>\n",
       "      <td>136.105</td>\n",
       "      <td>29460.0</td>\n",
       "      <td>600519</td>\n",
       "    </tr>\n",
       "    <tr>\n",
       "      <th>2012-12-31</th>\n",
       "      <td>155.208</td>\n",
       "      <td>152.087</td>\n",
       "      <td>156.292</td>\n",
       "      <td>150.144</td>\n",
       "      <td>51914.0</td>\n",
       "      <td>600519</td>\n",
       "    </tr>\n",
       "    <tr>\n",
       "      <th>2013-12-31</th>\n",
       "      <td>93.188</td>\n",
       "      <td>96.480</td>\n",
       "      <td>97.179</td>\n",
       "      <td>92.061</td>\n",
       "      <td>57546.0</td>\n",
       "      <td>600519</td>\n",
       "    </tr>\n",
       "    <tr>\n",
       "      <th>2014-12-31</th>\n",
       "      <td>157.642</td>\n",
       "      <td>161.056</td>\n",
       "      <td>161.379</td>\n",
       "      <td>157.132</td>\n",
       "      <td>46269.0</td>\n",
       "      <td>600519</td>\n",
       "    </tr>\n",
       "    <tr>\n",
       "      <th>2015-12-31</th>\n",
       "      <td>207.487</td>\n",
       "      <td>207.458</td>\n",
       "      <td>208.704</td>\n",
       "      <td>207.106</td>\n",
       "      <td>19673.0</td>\n",
       "      <td>600519</td>\n",
       "    </tr>\n",
       "    <tr>\n",
       "      <th>2016-12-31</th>\n",
       "      <td>317.239</td>\n",
       "      <td>324.563</td>\n",
       "      <td>325.670</td>\n",
       "      <td>317.239</td>\n",
       "      <td>34687.0</td>\n",
       "      <td>600519</td>\n",
       "    </tr>\n",
       "    <tr>\n",
       "      <th>2017-12-31</th>\n",
       "      <td>707.948</td>\n",
       "      <td>687.725</td>\n",
       "      <td>716.329</td>\n",
       "      <td>681.918</td>\n",
       "      <td>76038.0</td>\n",
       "      <td>600519</td>\n",
       "    </tr>\n",
       "    <tr>\n",
       "      <th>2018-12-31</th>\n",
       "      <td>563.300</td>\n",
       "      <td>590.010</td>\n",
       "      <td>596.400</td>\n",
       "      <td>560.000</td>\n",
       "      <td>63678.0</td>\n",
       "      <td>600519</td>\n",
       "    </tr>\n",
       "  </tbody>\n",
       "</table>\n",
       "</div>"
      ],
      "text/plain": [
       "               open    close     high      low   volume    code\n",
       "date                                                           \n",
       "2010-12-31  117.103  118.469  118.701  116.620  46084.0  600519\n",
       "2011-12-31  138.039  138.468  139.600  136.105  29460.0  600519\n",
       "2012-12-31  155.208  152.087  156.292  150.144  51914.0  600519\n",
       "2013-12-31   93.188   96.480   97.179   92.061  57546.0  600519\n",
       "2014-12-31  157.642  161.056  161.379  157.132  46269.0  600519\n",
       "2015-12-31  207.487  207.458  208.704  207.106  19673.0  600519\n",
       "2016-12-31  317.239  324.563  325.670  317.239  34687.0  600519\n",
       "2017-12-31  707.948  687.725  716.329  681.918  76038.0  600519\n",
       "2018-12-31  563.300  590.010  596.400  560.000  63678.0  600519"
      ]
     },
     "execution_count": 46,
     "metadata": {},
     "output_type": "execute_result"
    }
   ],
   "source": [
    "df_yearly"
   ]
  },
  {
   "cell_type": "code",
   "execution_count": 48,
   "metadata": {},
   "outputs": [
    {
     "data": {
      "text/plain": [
       "2948584.7999999993"
      ]
     },
     "execution_count": 48,
     "metadata": {},
     "output_type": "execute_result"
    }
   ],
   "source": [
    "#计算买入股票一共花了多少钱\n",
    "recv_monry = df_yearly['open'].sum()*1200\n",
    "recv_monry"
   ]
  },
  {
   "cell_type": "code",
   "execution_count": 53,
   "metadata": {},
   "outputs": [
    {
     "data": {
      "text/plain": [
       "date\n",
       "2019-09-03    3974584.8\n",
       "Name: open, dtype: float64"
      ]
     },
     "execution_count": 53,
     "metadata": {},
     "output_type": "execute_result"
    }
   ],
   "source": [
    "#将19年手中剩余的股票进行估价，将估价的值也计算到收益中\n",
    "recv_monry = 900 * new_df[-1:]['open'] + recv_monry\n",
    "recv_monry"
   ]
  },
  {
   "cell_type": "code",
   "execution_count": 54,
   "metadata": {},
   "outputs": [
    {
     "data": {
      "text/plain": [
       "date\n",
       "2019-09-03    520898.7\n",
       "Name: open, dtype: float64"
      ]
     },
     "execution_count": 54,
     "metadata": {},
     "output_type": "execute_result"
    }
   ],
   "source": [
    "recv_monry - cost_monty"
   ]
  },
  {
   "cell_type": "code",
   "execution_count": null,
   "metadata": {},
   "outputs": [],
   "source": []
  }
 ],
 "metadata": {
  "kernelspec": {
   "display_name": "Python 3",
   "language": "python",
   "name": "python3"
  },
  "language_info": {
   "codemirror_mode": {
    "name": "ipython",
    "version": 3
   },
   "file_extension": ".py",
   "mimetype": "text/x-python",
   "name": "python",
   "nbconvert_exporter": "python",
   "pygments_lexer": "ipython3",
   "version": "3.6.4"
  }
 },
 "nbformat": 4,
 "nbformat_minor": 2
}
