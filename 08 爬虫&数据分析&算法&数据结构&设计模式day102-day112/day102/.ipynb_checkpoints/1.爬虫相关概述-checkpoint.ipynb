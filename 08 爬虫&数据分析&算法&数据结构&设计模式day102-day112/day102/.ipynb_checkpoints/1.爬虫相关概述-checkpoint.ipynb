{
 "cells": [
  {
   "cell_type": "markdown",
   "metadata": {},
   "source": [
    "- http:\n",
    "    - 概念:clinet和Server进行数据交互的某种形式\n",
    "- 常用的头信息:\n",
    "    - User-Agent:请求载体的身份标识\n",
    "    - Connection:close\n",
    "    - content-type:\n",
    "- https:\n",
    "    - 概念:安全的http协议\n",
    "    - 证书\n",
    "        - 对称秘钥加密\n",
    "        - 非对称秘钥加密\n",
    "        - 证书秘钥加密方式\n",
    "    "
   ]
  },
  {
   "cell_type": "markdown",
   "metadata": {},
   "source": [
    "### 爬虫相关概述\n",
    "- 爬虫概念:\n",
    "    - 通过编写程序模拟浏览器上网,然后让其去互联网上爬取/抓取数据的过程\n",
    "        - 模拟:浏览器就是一款纯天然的原始的爬虫工具\n",
    "- 爬虫分类:\n",
    "    - 通用爬虫:爬取一整张页面中的数据. 抓取系统(爬虫程序)\n",
    "    - 聚焦爬虫:爬取页面中局部的数据.一定是建立在通用爬虫的基础之上\n",
    "    - 增量式爬虫:用来监测网站数据更新的情况.以便爬取到网站最新更新出来的数据\n",
    "- 风险分析\n",
    "    - 合理的的使用\n",
    "    - 爬虫风险的体现:\n",
    "        - 爬虫干扰了被访问网站的正常运营；\n",
    "        - 爬虫抓取了受到法律保护的特定类型的数据或信息。\n",
    "    - 避免风险:\n",
    "        - 严格遵守网站设置的robots协议；\n",
    "        - 在规避反爬虫措施的同时，需要优化自己的代码，避免干扰被访问网站的正常运行；\n",
    "        - 在使用、传播抓取到的信息时，应审查所抓取的内容，如发现属于用户的个人信息、隐私或者他人的商业秘密的，应及时停止并删除。\n",
    "        \n",
    "- 反爬机制\n",
    "- 反反爬策略\n",
    "\n",
    "- robots.txt协议:文本协议,在文本中指定了可爬和不可爬的数据说明.\n",
    "    "
   ]
  },
  {
   "cell_type": "code",
   "execution_count": null,
   "metadata": {},
   "outputs": [],
   "source": []
  },
  {
   "cell_type": "code",
   "execution_count": null,
   "metadata": {},
   "outputs": [],
   "source": []
  },
  {
   "cell_type": "code",
   "execution_count": null,
   "metadata": {},
   "outputs": [],
   "source": []
  },
  {
   "cell_type": "code",
   "execution_count": null,
   "metadata": {},
   "outputs": [],
   "source": []
  },
  {
   "cell_type": "code",
   "execution_count": null,
   "metadata": {},
   "outputs": [],
   "source": []
  },
  {
   "cell_type": "code",
   "execution_count": null,
   "metadata": {},
   "outputs": [],
   "source": []
  },
  {
   "cell_type": "code",
   "execution_count": null,
   "metadata": {},
   "outputs": [],
   "source": []
  },
  {
   "cell_type": "code",
   "execution_count": null,
   "metadata": {},
   "outputs": [],
   "source": []
  }
 ],
 "metadata": {
  "kernelspec": {
   "display_name": "Python 3",
   "language": "python",
   "name": "python3"
  },
  "language_info": {
   "codemirror_mode": {
    "name": "ipython",
    "version": 3
   },
   "file_extension": ".py",
   "mimetype": "text/x-python",
   "name": "python",
   "nbconvert_exporter": "python",
   "pygments_lexer": "ipython3",
   "version": "3.6.4"
  }
 },
 "nbformat": 4,
 "nbformat_minor": 2
}
