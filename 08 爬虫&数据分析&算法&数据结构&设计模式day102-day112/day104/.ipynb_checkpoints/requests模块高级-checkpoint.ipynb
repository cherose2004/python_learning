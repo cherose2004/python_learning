{
 "cells": [
  {
   "cell_type": "markdown",
   "metadata": {},
   "source": [
    "### 回顾\n",
    "- 简历模板:\n",
    "    - ConectionPool:\n",
    "        - 原因:\n",
    "            - 1.在短时间内向网站发起了一个高频的请求\n",
    "                - 使用代理\n",
    "            - 2.连接池(http)中的资源被耗尽\n",
    "                - 立即将请求断开:\n",
    "                    - Connection:close\n",
    "- 高清图片:\n",
    "    - 图片懒加载:在img标签中应用了伪属性    \n",
    "    \n",
    "- 回顾\n",
    "    - 数据解析的作用:为了实现聚焦爬虫\n",
    "    - bs4:\n",
    "        - soup.tagName\n",
    "        - find/find_all('tagName',attrName='value')\n",
    "        - select('Selector')\n",
    "            - > 空格\n",
    "        - string/text\n",
    "        - tag['href']\n",
    "    - xpath:\n",
    "        - //tagName\n",
    "        - //tagName[@attrName=\"value\"]\n",
    "        - //div[1]\n",
    "        - //text  or /text\n",
    "        - //a/@href\n",
    "    - bs4和xpath最明显的一个区别什么?\n",
    "    - 解析出携带标签的局部内容?\n",
    "        - bs4相关标签定位的方法或者属性返回值就是携带标签的内容"
   ]
  },
  {
   "cell_type": "markdown",
   "metadata": {},
   "source": [
    "- 代理\n",
    "- cookie\n",
    "- 验证码的识别\n",
    "- 模拟登陆"
   ]
  },
  {
   "cell_type": "markdown",
   "metadata": {},
   "source": [
    "- 代理\n",
    "    - 代理服务器:实现请求转发,从而可以实现更换请求的ip地址\n",
    "    - 在requests中如何将请求的ip进行更换\n",
    "- 代理的匿名度:\n",
    "    - 透明:服务器知道你使用了代理并且知道你的真实ip\n",
    "    - 匿名:服务器知道你使用了代理,但是不知道你的真实ip\n",
    "    - 高匿:服务器不知道你使用了代理,更不知道你的真实ip\n",
    "- 代理的类型:\n",
    "    - http:该类型的代理只可以转发http协议的请求\n",
    "    - https:只可以转发https协议的请求"
   ]
  },
  {
   "cell_type": "code",
   "execution_count": 1,
   "metadata": {},
   "outputs": [],
   "source": [
    "import requests\n",
    "headers = {\n",
    "    'User-Agent':'Mozilla/5.0 (Windows NT 10.0; Win64; x64) AppleWebKit/537.36 (KHTML, like Gecko) Chrome/76.0.3809.100 Safari/537.36'\n",
    "}"
   ]
  },
  {
   "cell_type": "code",
   "execution_count": null,
   "metadata": {},
   "outputs": [],
   "source": [
    "proxy = {\n",
    "    {'https':'11.197.203.187:9999'},\n",
    "    {'https':'12.197.203.187:9999'},\n",
    "    {'https':'13.197.203.187:9999'},\n",
    "}"
   ]
  },
  {
   "cell_type": "code",
   "execution_count": 4,
   "metadata": {},
   "outputs": [],
   "source": [
    "url = 'https://www.baidu.com/s?wd=ip'\n",
    "#proxies={'http/https':'ip:port'}\n",
    "page_text = requests.get(url=url,headers=headers,proxies={'https':'1.197.203.187:9999'}).text\n",
    "\n",
    "with open('ip.html','w',encoding='utf-8') as fp:\n",
    "    fp.write(page_text)"
   ]
  },
  {
   "cell_type": "code",
   "execution_count": null,
   "metadata": {},
   "outputs": [],
   "source": []
  }
 ],
 "metadata": {
  "kernelspec": {
   "display_name": "Python 3",
   "language": "python",
   "name": "python3"
  },
  "language_info": {
   "codemirror_mode": {
    "name": "ipython",
    "version": 3
   },
   "file_extension": ".py",
   "mimetype": "text/x-python",
   "name": "python",
   "nbconvert_exporter": "python",
   "pygments_lexer": "ipython3",
   "version": "3.6.4"
  }
 },
 "nbformat": 4,
 "nbformat_minor": 2
}
