{
 "cells": [
  {
   "cell_type": "markdown",
   "metadata": {},
   "source": [
    "- 队列：先进先出\n",
    "- 应用场景：\n",
    "    - 我们的计算机实验室有 30 台计算机与一台打印机联网。当学生想要打印时，他们的打印任务与正在等待的所有其他打印任务“一致”。第一个进入的任务是先完成。如果你是最后一个，你必须等待你前面的所有其他任务打印"
   ]
  },
  {
   "cell_type": "markdown",
   "metadata": {},
   "source": [
    "- Queue() 创建一个空的新队列。 它不需要参数，并返回一个空队列。\n",
    "- enqueue(item) 将新项添加到队尾。 它需要 item 作为参数，并不返回任何内容。\n",
    "- dequeue() 从队首移除项。它不需要参数并返回 item。 队列被修改。\n",
    "- isEmpty() 查看队列是否为空。它不需要参数，并返回布尔值。\n",
    "- size() 返回队列中的项数。它不需要参数，并返回一个整数。"
   ]
  },
  {
   "cell_type": "code",
   "execution_count": 4,
   "metadata": {},
   "outputs": [],
   "source": [
    "class Queue():\n",
    "    def __init__(self):\n",
    "        self.items = []\n",
    "    def enqueue(self,item):\n",
    "        self.items.insert(0,item)\n",
    "    def dequeue(self):\n",
    "        return self.items.pop()\n",
    "    def isEmpty(self):\n",
    "        return self.items == []\n",
    "    def size(self):\n",
    "        return len(self.items)"
   ]
  },
  {
   "cell_type": "code",
   "execution_count": 5,
   "metadata": {},
   "outputs": [
    {
     "name": "stdout",
     "output_type": "stream",
     "text": [
      "1\n",
      "2\n",
      "3\n"
     ]
    }
   ],
   "source": [
    "q = Queue()\n",
    "q.enqueue(1)\n",
    "q.enqueue(2)\n",
    "q.enqueue(3)\n",
    "print(q.dequeue())\n",
    "print(q.dequeue())\n",
    "print(q.dequeue())"
   ]
  },
  {
   "cell_type": "markdown",
   "metadata": {},
   "source": [
    "- 案例：烫手的山芋\n",
    "    - 烫手山芋游戏介绍：6个孩子围城一个圈，排列顺序孩子们自己指定。第一个孩子手里有一个烫手的山芋，需要在计时器计时1秒后将山芋传递给下一个孩子，依次类推。规则是，在计时器每计时7秒时，手里有山芋的孩子退出游戏。该游戏直到剩下一个孩子时结束，最后剩下的孩子获胜。请使用队列实现该游戏策略，排在第几个位置最终会获胜。\n",
    "    - 准则：队头孩子的手里永远要有山芋。"
   ]
  },
  {
   "cell_type": "code",
   "execution_count": 7,
   "metadata": {},
   "outputs": [
    {
     "name": "stdout",
     "output_type": "stream",
     "text": [
      "获胜者为： E\n"
     ]
    }
   ],
   "source": [
    "queue = Queue()\n",
    "kids = ['A','B','C','D','E','F']\n",
    "#将六个孩子添加到队列中，A是队头位置的孩子\n",
    "for kid in kids:\n",
    "    queue.enqueue(kid)\n",
    "\n",
    "while queue.size() > 1:\n",
    "    #在7秒之内山芋会被传递6次\n",
    "    for i in range(6):\n",
    "        kid = queue.dequeue()\n",
    "        queue.enqueue(kid)\n",
    "    queue.dequeue()\n",
    "\n",
    "print('获胜者为：',queue.dequeue())"
   ]
  },
  {
   "cell_type": "markdown",
   "metadata": {},
   "source": [
    "### 双端队列\n",
    "- 同同列相比，有两个头部和尾部。可以在双端进行数据的插入和删除，提供了单数据结构中栈和队列的特性"
   ]
  },
  {
   "cell_type": "markdown",
   "metadata": {},
   "source": [
    "- Deque() 创建一个空的新 deque。它不需要参数，并返回空的 deque。\n",
    "- addFront(item) 将一个新项添加到 deque 的首部。它需要 item 参数 并不返回任何内容。\n",
    "- addRear(item) 将一个新项添加到 deque 的尾部。它需要 item 参数并不返回任何内容。\n",
    "- removeFront() 从 deque 中删除首项。它不需要参数并返回 item。deque 被修改。\n",
    "- removeRear() 从 deque 中删除尾项。它不需要参数并返回 item。deque 被修改。\n",
    "- isEmpty() 测试 deque 是否为空。它不需要参数，并返回布尔值。\n",
    "- size() 返回 deque 中的项数。它不需要参数，并返回一个整数。\n"
   ]
  },
  {
   "cell_type": "code",
   "execution_count": 8,
   "metadata": {},
   "outputs": [],
   "source": [
    "class Dequeue():\n",
    "    def __init__(self):\n",
    "        self.items = []\n",
    "    def isEmpty(self):\n",
    "        return self.items == []\n",
    "    def size(self):\n",
    "        return len(self.items)\n",
    "    def addFront(self,item):\n",
    "        self.items.append(item)\n",
    "    def addRear(self,item):\n",
    "        self.items.insert(0,item)\n",
    "    def removeFront(self):\n",
    "        return self.items.pop()\n",
    "    def removeRear(self):\n",
    "        return self.items.pop(0)\n",
    "        "
   ]
  },
  {
   "cell_type": "markdown",
   "metadata": {},
   "source": [
    "- 双端队列应用案例：回文检查\n",
    "    - 回文是一个字符串，读取首尾相同的字符，例如，radar toot madam。"
   ]
  },
  {
   "cell_type": "code",
   "execution_count": 12,
   "metadata": {},
   "outputs": [
    {
     "name": "stdout",
     "output_type": "stream",
     "text": [
      "False\n"
     ]
    }
   ],
   "source": [
    "def isHuiWen(s):\n",
    "    ex = True\n",
    "    \n",
    "    q = Dequeue()\n",
    "    #将字符串的每一个字符添加到双端队列中\n",
    "    for ch in s:\n",
    "        q.addFront(ch)\n",
    "    for i in range(len(s)//2):\n",
    "        font = q.removeFront()\n",
    "        rear = q.removeRear()\n",
    "        if font != rear:\n",
    "            ex = False\n",
    "            break\n",
    "    return ex\n",
    "    \n",
    "print(isHuiWen('addan'))      "
   ]
  },
  {
   "cell_type": "code",
   "execution_count": null,
   "metadata": {},
   "outputs": [],
   "source": []
  }
 ],
 "metadata": {
  "kernelspec": {
   "display_name": "Python 3",
   "language": "python",
   "name": "python3"
  },
  "language_info": {
   "codemirror_mode": {
    "name": "ipython",
    "version": 3
   },
   "file_extension": ".py",
   "mimetype": "text/x-python",
   "name": "python",
   "nbconvert_exporter": "python",
   "pygments_lexer": "ipython3",
   "version": "3.6.4"
  }
 },
 "nbformat": 4,
 "nbformat_minor": 2
}
