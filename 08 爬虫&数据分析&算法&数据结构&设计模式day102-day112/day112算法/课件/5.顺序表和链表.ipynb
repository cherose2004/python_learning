{
 "cells": [
  {
   "cell_type": "markdown",
   "metadata": {},
   "source": [
    "### 内存\n",
    "- 计算机的作用\n",
    "    - 对二进制数据进行存储和运算"
   ]
  },
  {
   "cell_type": "markdown",
   "metadata": {},
   "source": [
    "- 问题：计算机如何计算1+2？\n",
    "    - 将1和2的二进制形式的数据加载到计算机中进行存储，计算机才可以使用相关的寄存器对数据展开相关的运算"
   ]
  },
  {
   "cell_type": "markdown",
   "metadata": {},
   "source": [
    "- 变量的概念\n",
    "    - 变量其实表示的就是内存地址\n",
    "    - 每一块那内存空间都会有两个默认的属性：\n",
    "        - 大小：\n",
    "            - 衡量计算机内存空间大小的单位：\n",
    "                - bit（位）\n",
    "                - byte字节：8bit\n",
    "                - kb：1024byte\n",
    "                - mb：\n",
    "                - GB：\n",
    "        - 地址：是用16进制的数来表示的。地址是用来让cpu进行寻址"
   ]
  },
  {
   "cell_type": "markdown",
   "metadata": {},
   "source": [
    "- 形象化理解内存（内存的大小和地址）"
   ]
  },
  {
   "cell_type": "markdown",
   "metadata": {},
   "source": [
    "- 理解a=10的内存图（引用，指向）\n",
    "    - 引用：就是我们所说的变量\n",
    "    - 指向：如果某一个引用或者变量存储勒某一块内存空间的地址后，则表示该变量或者引用指向了那块内存。\n",
    "        - 一个变量指向了某块内存，那么该变量就可以视为该那内存空间中存储的数据值。"
   ]
  },
  {
   "cell_type": "markdown",
   "metadata": {},
   "source": [
    "- 不同数据占用内存空间的大小（事先已经指定好）是不同。"
   ]
  },
  {
   "cell_type": "markdown",
   "metadata": {},
   "source": [
    "### 顺序表\n",
    "- 集合中存储的元素是有顺序的，顺序表的结构可以分为两种形式：单数据类型和多数据类型。\n",
    "- python中的列表和元组就属于多数据类型的顺序表"
   ]
  },
  {
   "cell_type": "code",
   "execution_count": 4,
   "metadata": {},
   "outputs": [
    {
     "data": {
      "text/plain": [
       "'2.2'"
      ]
     },
     "execution_count": 4,
     "metadata": {},
     "output_type": "execute_result"
    }
   ],
   "source": [
    "import numpy as np\n",
    "arr = np.array([1,2.2,'three'])\n",
    "arr[1]"
   ]
  },
  {
   "cell_type": "markdown",
   "metadata": {},
   "source": [
    "- 单数据类型顺序表的内存图（内存连续开启）"
   ]
  },
  {
   "cell_type": "markdown",
   "metadata": {},
   "source": [
    "- 多数据类型顺序表的内存图（内存非连续开辟）"
   ]
  },
  {
   "cell_type": "markdown",
   "metadata": {},
   "source": [
    "- 顺序表的弊端：顺序表的结构需要预先知道数据大小来申请连续的存储空间，而在进行扩充时又需要进行数据的搬迁。"
   ]
  },
  {
   "cell_type": "markdown",
   "metadata": {},
   "source": [
    "### 链表：相对于顺序表，链表结构可以充分利用计算机内存空间，实现灵活的内存动态管理且进行扩充时不需要进行数据搬迁。\n",
    "- 链表（Linked list）是一种常见的基础数据结构，是一种线性表，但是不像顺序表一样连续存储数据，而是每一个结点（数据存储单元）里存放下一个结点的信息（即地址）"
   ]
  },
  {
   "cell_type": "markdown",
   "metadata": {},
   "source": [
    ". is_empty()：链表是否为空\n",
    "\n",
    ". length()：链表长度\n",
    "\n",
    ". travel()：遍历整个链表\n",
    "\n",
    ". add(item)：链表头部添加元素\n",
    "\n",
    ". append(item)：链表尾部添加元素\n",
    "\n",
    ". insert(pos, item)：指定位置添加元素\n",
    "\n",
    ". remove(item)：删除节点\n",
    "\n",
    ". search(item)：查找节点是否存在"
   ]
  },
  {
   "cell_type": "code",
   "execution_count": 7,
   "metadata": {},
   "outputs": [],
   "source": [
    "class Node():\n",
    "    def __init__(self,item):\n",
    "        self.item = item\n",
    "        self.next = None"
   ]
  },
  {
   "cell_type": "code",
   "execution_count": 48,
   "metadata": {},
   "outputs": [],
   "source": [
    "class Link():\n",
    "    #构建出一个空的链表\n",
    "    def __init__(self):\n",
    "        self._head = None #永远指向链表中的头节点\n",
    "        #想链表的头部插入节点\n",
    "    def add(self,item):\n",
    "        node = Node(item)\n",
    "        node.next = self._head\n",
    "        self._head = node\n",
    "        \n",
    "    def travel(self):   \n",
    "        cur = self._head\n",
    "        #链表为空则输出‘链表为空’\n",
    "        if self._head == None:\n",
    "            print('链表为空！')\n",
    "        while cur:\n",
    "            print(cur.item)\n",
    "            cur = cur.next\n",
    "    def isEmpty(self):\n",
    "        return self._head == None\n",
    "    def length(self):\n",
    "        cur = self._head\n",
    "        count = 0\n",
    "        while cur:\n",
    "            count += 1\n",
    "            cur = cur.next\n",
    "        return count          \n",
    "    def search(self,item):\n",
    "        cur = self._head\n",
    "        find = False\n",
    "        while cur:\n",
    "            if cur.item == item:\n",
    "                find = True\n",
    "                break\n",
    "            cur = cur.next\n",
    "        return find\n",
    "    \n",
    "    def append(self,item):\n",
    "        node = Node(item)\n",
    "        #链表为空的情况\n",
    "        if self._head == None:\n",
    "            self._head = node\n",
    "            return\n",
    "        \n",
    "        cur = self._head #头节点\n",
    "        pre = None #cur的前一个节点\n",
    "        while cur:\n",
    "            pre = cur\n",
    "            cur = cur.next\n",
    "        pre.next = node\n",
    "        \n",
    "    def insert(self,pos,item):\n",
    "        node = Node(item)\n",
    "        \n",
    "        if pos < 0 or pos > self.length():\n",
    "            print('重新给pos赋值！！！')\n",
    "            return\n",
    "        \n",
    "        cur = self._head\n",
    "        pre = None\n",
    "        \n",
    "        for i in range(pos):\n",
    "            pre = cur\n",
    "            cur = cur.next\n",
    "        pre.next = node\n",
    "        node.next = cur\n",
    "    def remove(self,item):\n",
    "        cur = self._head\n",
    "        pre = None\n",
    "        \n",
    "        if self._head == None:#链表为空\n",
    "            print('链表为空，没有可删除的节点！！1')\n",
    "            return\n",
    "    \n",
    "        \n",
    "        #删除的是第一个节点的情况\n",
    "        if self._head.item == item:\n",
    "            self._head = self._head.next\n",
    "            return\n",
    "        \n",
    "        #删除的是非第一个节点的情况\n",
    "        while cur:\n",
    "            pre = cur\n",
    "            cur = cur.next\n",
    "            if cur.item == item:\n",
    "                pre.next = cur.next\n",
    "                return\n",
    "                "
   ]
  },
  {
   "cell_type": "code",
   "execution_count": 49,
   "metadata": {},
   "outputs": [
    {
     "name": "stdout",
     "output_type": "stream",
     "text": [
      "链表为空，没有可删除的节点！！1\n",
      "链表为空！\n"
     ]
    }
   ],
   "source": [
    "link = Link()\n",
    "# link.add(3)\n",
    "# link.add(4)\n",
    "# link.add(5)\n",
    "# link.add(6)\n",
    "\n",
    "link.remove(3)\n",
    "\n",
    "link.travel()"
   ]
  },
  {
   "cell_type": "code",
   "execution_count": null,
   "metadata": {},
   "outputs": [],
   "source": []
  },
  {
   "cell_type": "code",
   "execution_count": null,
   "metadata": {},
   "outputs": [],
   "source": []
  }
 ],
 "metadata": {
  "kernelspec": {
   "display_name": "Python 3",
   "language": "python",
   "name": "python3"
  },
  "language_info": {
   "codemirror_mode": {
    "name": "ipython",
    "version": 3
   },
   "file_extension": ".py",
   "mimetype": "text/x-python",
   "name": "python",
   "nbconvert_exporter": "python",
   "pygments_lexer": "ipython3",
   "version": "3.6.4"
  }
 },
 "nbformat": 4,
 "nbformat_minor": 2
}
