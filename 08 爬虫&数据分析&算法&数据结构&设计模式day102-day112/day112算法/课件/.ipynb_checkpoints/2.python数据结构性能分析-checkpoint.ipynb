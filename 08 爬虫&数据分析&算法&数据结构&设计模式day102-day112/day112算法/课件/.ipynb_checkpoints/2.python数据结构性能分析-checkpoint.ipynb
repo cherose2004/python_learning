{
 "cells": [
  {
   "cell_type": "markdown",
   "metadata": {},
   "source": [
    "### 目标\n",
    "- 本节的目标是告诉大家Python列表和字典操作的 大O 性能。然后我们将做一些基于时间的实验来说明每个数据结构的花销和使用这些数据结构的好处"
   ]
  },
  {
   "cell_type": "markdown",
   "metadata": {},
   "source": [
    "### 实操\n",
    "- 在列表的操作有一个非常常见的编程任务就是是增加一个列表。我们马上想到的有两种方法可以创建更长的列表，可以使用 append 方法或拼接运算符。但是这两种方法那种效率更高呢。这对你来说很重要，因为它可以帮助你通过选择合适的工具来提高你自己的程序的效率。"
   ]
  },
  {
   "cell_type": "markdown",
   "metadata": {},
   "source": [
    "- 实例化一个空列表，然后将0-n范围的数据添加到列表中。（四种方式）"
   ]
  },
  {
   "cell_type": "code",
   "execution_count": 1,
   "metadata": {},
   "outputs": [],
   "source": [
    "def test01():\n",
    "    alist = []\n",
    "    for i in range(1000):\n",
    "        alist.append(i)\n",
    "    return alist"
   ]
  },
  {
   "cell_type": "code",
   "execution_count": 2,
   "metadata": {},
   "outputs": [],
   "source": [
    "def test02():\n",
    "    alist = []\n",
    "    for i in range(1000):\n",
    "        alist += [i]\n",
    "    return alist"
   ]
  },
  {
   "cell_type": "code",
   "execution_count": 3,
   "metadata": {},
   "outputs": [],
   "source": [
    "def test03():\n",
    "    alist = [i for i in range(1000)]\n",
    "    return alist"
   ]
  },
  {
   "cell_type": "code",
   "execution_count": 4,
   "metadata": {},
   "outputs": [],
   "source": [
    "def test04():\n",
    "    alist = list(range(1000))\n",
    "    return alist"
   ]
  },
  {
   "cell_type": "markdown",
   "metadata": {},
   "source": [
    "- timeit模块：该模块可以用来测试一段python代码的执行速度/时长。\n",
    "\n",
    "- Timer类：该类是timeit模块中专门用于测量python代码的执行速度/时长的。原型为：class timeit.Timer(stmt='pass',setup='pass')。\n",
    "\n",
    "    - stmt参数：表示即将进行测试的代码块语句。\n",
    "\n",
    "    - setup：运行代码块语句时所需要的设置。\n",
    "\n",
    "    - timeit函数：timeit.Timer.timeit(number=100000),该函数返回代码块语句执行number次的平均耗时。"
   ]
  },
  {
   "cell_type": "code",
   "execution_count": 12,
   "metadata": {},
   "outputs": [
    {
     "name": "stdout",
     "output_type": "stream",
     "text": [
      "0.10196779999999706\n",
      "0.08508960000000343\n"
     ]
    }
   ],
   "source": [
    "from timeit import Timer\n",
    "def test01():\n",
    "    alist = []\n",
    "    for i in range(1000):\n",
    "        alist.append(i)\n",
    "    return alist\n",
    "def test02():\n",
    "    alist = []\n",
    "    for i in range(1000):\n",
    "        alist += [i]\n",
    "    return alist\n",
    "def test03():\n",
    "    alist = [i for i in range(1000)]\n",
    "    return alist\n",
    "def test04():\n",
    "    alist = list(range(1000))\n",
    "    return alist\n",
    "\n",
    "if __name__ == '__main__':\n",
    "    t1 = Timer('test01()',setup='from __main__ import test01')\n",
    "    second_1 = t1.timeit(1000)\n",
    "    print(second_1)\n",
    "    \n",
    "    t2 = Timer('test02()',setup='from __main__ import test02')\n",
    "    second_2 = t2.timeit(1000)\n",
    "    print(second_2)"
   ]
  },
  {
   "cell_type": "markdown",
   "metadata": {},
   "source": [
    "- 四种方式中哪种方式添加列表元素的效率最高呢？\n",
    "    - 计算运行平均耗时"
   ]
  },
  {
   "cell_type": "code",
   "execution_count": null,
   "metadata": {},
   "outputs": [],
   "source": []
  },
  {
   "cell_type": "code",
   "execution_count": null,
   "metadata": {},
   "outputs": [],
   "source": []
  },
  {
   "cell_type": "code",
   "execution_count": null,
   "metadata": {},
   "outputs": [],
   "source": []
  },
  {
   "cell_type": "code",
   "execution_count": null,
   "metadata": {},
   "outputs": [],
   "source": []
  }
 ],
 "metadata": {
  "kernelspec": {
   "display_name": "Python 3",
   "language": "python",
   "name": "python3"
  },
  "language_info": {
   "codemirror_mode": {
    "name": "ipython",
    "version": 3
   },
   "file_extension": ".py",
   "mimetype": "text/x-python",
   "name": "python",
   "nbconvert_exporter": "python",
   "pygments_lexer": "ipython3",
   "version": "3.6.4"
  }
 },
 "nbformat": 4,
 "nbformat_minor": 2
}
