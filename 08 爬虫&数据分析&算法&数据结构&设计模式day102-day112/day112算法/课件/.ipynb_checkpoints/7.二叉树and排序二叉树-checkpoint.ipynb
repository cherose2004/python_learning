{
 "cells": [
  {
   "cell_type": "markdown",
   "metadata": {},
   "source": [
    "### 二叉树\n",
    "- 根节点\n",
    "- 左叶子节点\n",
    "- 右叶子节点\n",
    "- 子树\n",
    "- 高度"
   ]
  },
  {
   "cell_type": "markdown",
   "metadata": {},
   "source": [
    "### 二叉树的遍历\n",
    "- 广度遍历：逐层遍历\n",
    "- 深度遍历\n",
    "    - 前序：根左右\n",
    "    - 中序：左根右\n",
    "    - 后序：左右根"
   ]
  },
  {
   "cell_type": "code",
   "execution_count": 5,
   "metadata": {},
   "outputs": [],
   "source": [
    "#封装一个节点对象\n",
    "class Node():\n",
    "    def __init__(self,item):\n",
    "        self.item = item\n",
    "        self.left = None\n",
    "        self.right = None"
   ]
  },
  {
   "cell_type": "code",
   "execution_count": 15,
   "metadata": {},
   "outputs": [],
   "source": [
    "class Tree():\n",
    "    def __init__(self):#构造出一颗空的二叉树\n",
    "        self.root = None #root指向第一个节点的地址，如果root指向了None，则意味着该二叉树为空\n",
    "    #向二叉树中插入节点\n",
    "    def addNode(self,item):\n",
    "        node = Node(item)\n",
    "        if self.root == None:\n",
    "            #addNode如果第一次被调用则意味着：向空树中插入第一个节点，该节点一定是该树的根节点\n",
    "            self.root = node\n",
    "            return\n",
    "        #如果上面的if不执行则树为非空，下面就执行向一个非空的树中插入节点的操作\n",
    "        cur = self.root\n",
    "        queue = [cur]\n",
    "        while queue:\n",
    "            n = queue.pop(0)\n",
    "            if n.left != None:\n",
    "                queue.append(n.left)\n",
    "            else:\n",
    "                n.left = node\n",
    "                break\n",
    "            if n.right != None:\n",
    "                queue.append(n.right)\n",
    "            else:\n",
    "                n.right = node\n",
    "                break\n",
    "    def travel(self):\n",
    "        #如果是为空则\n",
    "        if self.root == None:\n",
    "            print('空！')\n",
    "            return\n",
    "        #树为非空\n",
    "        cur = self.root\n",
    "        queue = [cur]\n",
    "        while queue:\n",
    "            n = queue.pop(0)\n",
    "            print(n.item)\n",
    "            if n.left != None:\n",
    "                queue.append(n.left)\n",
    "            if n.right != None:\n",
    "                queue.append(n.right)\n",
    "            \n",
    "    def forward(self,root):\n",
    "        if root == None:\n",
    "            return\n",
    "        print(root.item)\n",
    "        self.forward(root.left)\n",
    "        self.forward(root.right)\n",
    "        \n",
    "    def middle(self,root):\n",
    "        if root == None:\n",
    "            return\n",
    "        self.middle(root.left)\n",
    "        print(root.item)\n",
    "        self.middle(root.right)\n",
    "    def back(self,root):\n",
    "        if root == None:\n",
    "            return\n",
    "        self.back(root.left)\n",
    "        self.back(root.right)\n",
    "        print(root.item)\n",
    "        "
   ]
  },
  {
   "cell_type": "code",
   "execution_count": 17,
   "metadata": {},
   "outputs": [
    {
     "name": "stdout",
     "output_type": "stream",
     "text": [
      "4\n",
      "5\n",
      "2\n",
      "6\n",
      "7\n",
      "3\n",
      "1\n"
     ]
    }
   ],
   "source": [
    "tree = Tree()\n",
    "tree.addNode(1)\n",
    "tree.addNode(2)\n",
    "tree.addNode(3)\n",
    "tree.addNode(4)\n",
    "tree.addNode(5)\n",
    "tree.addNode(6)\n",
    "tree.addNode(7)\n",
    "# tree.travel()\n",
    "# tree.forward(tree.root)\n",
    "# tree.middle(tree.root)\n",
    "tree.back(tree.root)\n",
    "#前序：1，2，4，5，3，6，7\n",
    "#中序：4，2，5，1，6，3，7\n",
    "#后续：4，5，2，6，7，3，1"
   ]
  },
  {
   "cell_type": "markdown",
   "metadata": {},
   "source": [
    "### 排序二叉树\n",
    "- 插入节点的时候一定要遵从：比根节点小的节点同一插入在树的左侧，比根节点大的节点同一插在数据的右侧\n"
   ]
  },
  {
   "cell_type": "code",
   "execution_count": 18,
   "metadata": {},
   "outputs": [],
   "source": [
    "class Node():\n",
    "    def __init__(self,item):\n",
    "        self.item = item\n",
    "        self.left = None\n",
    "        self.right = None"
   ]
  },
  {
   "cell_type": "code",
   "execution_count": 25,
   "metadata": {},
   "outputs": [],
   "source": [
    "class SortTree():\n",
    "    def __init__(self):\n",
    "        self.root = None\n",
    "        \n",
    "    def insertNode(self,item):\n",
    "        node = Node(item)\n",
    "        #向空树中插入第一个节点的情况\n",
    "        if self.root == None:\n",
    "            self.root = node\n",
    "            return\n",
    "        #树为非空的情况\n",
    "        cur = self.root\n",
    "        \n",
    "        while True:\n",
    "            if node.item > cur.item:#往右插\n",
    "                if cur.right == None:\n",
    "                    cur.right = node\n",
    "                    break\n",
    "\n",
    "                else:\n",
    "                    cur = cur.right\n",
    "            else:#往左插\n",
    "                if cur.left == None:\n",
    "                    cur.left = node\n",
    "                    break\n",
    "                else:\n",
    "                    cur = cur.left\n",
    "             \n",
    "    def forward(self,root):\n",
    "        if root == None:\n",
    "            return\n",
    "        print(root.item)\n",
    "        self.forward(root.left)\n",
    "        self.forward(root.right)\n",
    "        \n",
    "    def middle(self,root):\n",
    "        if root == None:\n",
    "            return\n",
    "        self.middle(root.left)\n",
    "        print(root.item)\n",
    "        self.middle(root.right)\n",
    "    def back(self,root):\n",
    "        if root == None:\n",
    "            return\n",
    "        self.back(root.left)\n",
    "        self.back(root.right)\n",
    "        print(root.item)\n",
    "        "
   ]
  },
  {
   "cell_type": "code",
   "execution_count": 26,
   "metadata": {},
   "outputs": [
    {
     "name": "stdout",
     "output_type": "stream",
     "text": [
      "2\n",
      "3\n",
      "5\n",
      "6\n",
      "7\n",
      "8\n"
     ]
    }
   ],
   "source": [
    "tree = SortTree()\n",
    "tree.insertNode(3)\n",
    "tree.insertNode(8)\n",
    "tree.insertNode(5)\n",
    "tree.insertNode(7)\n",
    "tree.insertNode(6)\n",
    "tree.insertNode(2)\n",
    "\n",
    "tree.middle(tree.root)"
   ]
  },
  {
   "cell_type": "code",
   "execution_count": null,
   "metadata": {},
   "outputs": [],
   "source": []
  }
 ],
 "metadata": {
  "kernelspec": {
   "display_name": "Python 3",
   "language": "python",
   "name": "python3"
  },
  "language_info": {
   "codemirror_mode": {
    "name": "ipython",
    "version": 3
   },
   "file_extension": ".py",
   "mimetype": "text/x-python",
   "name": "python",
   "nbconvert_exporter": "python",
   "pygments_lexer": "ipython3",
   "version": "3.6.4"
  }
 },
 "nbformat": 4,
 "nbformat_minor": 2
}
