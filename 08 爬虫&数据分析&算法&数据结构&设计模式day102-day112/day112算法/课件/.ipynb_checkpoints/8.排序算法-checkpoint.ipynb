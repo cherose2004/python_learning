{
 "cells": [
  {
   "cell_type": "markdown",
   "metadata": {},
   "source": [
    "- 冒泡排序"
   ]
  },
  {
   "cell_type": "code",
   "execution_count": 3,
   "metadata": {},
   "outputs": [],
   "source": [
    "#将列表元素中最大值找出放置在了列表中最后的位置\n",
    "def sort(alist):\n",
    "    for i in range(0,len(alist)-1):\n",
    "        if alist[i] > alist[i+1]:\n",
    "            alist[i],alist[i+1] = alist[i+1],alist[i]\n",
    "            \n",
    "    print(alist)"
   ]
  },
  {
   "cell_type": "code",
   "execution_count": 4,
   "metadata": {},
   "outputs": [],
   "source": [
    "def sort(alist):\n",
    "    for j in range(0,len(alist)-1):\n",
    "        \n",
    "        for i in range(0,len(alist)-1-j): #空值比较的次数\n",
    "            if alist[i] > alist[i+1]:\n",
    "                alist[i],alist[i+1] = alist[i+1],alist[i]\n",
    "            \n",
    "    print(alist)"
   ]
  },
  {
   "cell_type": "code",
   "execution_count": 6,
   "metadata": {},
   "outputs": [
    {
     "name": "stdout",
     "output_type": "stream",
     "text": [
      "[2, 4, 6, 8, 9, 11]\n"
     ]
    }
   ],
   "source": [
    "alist = [4,11,6,8,2,9]\n",
    "sort(alist)"
   ]
  },
  {
   "cell_type": "markdown",
   "metadata": {},
   "source": [
    "- 选择排序"
   ]
  },
  {
   "cell_type": "code",
   "execution_count": 10,
   "metadata": {},
   "outputs": [],
   "source": [
    "#1.直接将列表中最大值找出，放在列表最后的位置\n",
    "def sort(alist):\n",
    "    max = 0 #max中存储的是列表中元素值最大的数的下标。最开始先假设列表下标为0对应的元素是最大值\n",
    "    for i in range(0,len(alist)-1):\n",
    "        if alist[max] < alist[i+1]:\n",
    "            max = i+1\n",
    "    #将最大值放置到列表末尾的位置\n",
    "    alist[max],alist[len(alist)-1] = alist[len(alist)-1],alist[max]\n",
    "    print(alist)"
   ]
  },
  {
   "cell_type": "code",
   "execution_count": 12,
   "metadata": {},
   "outputs": [],
   "source": [
    "def sort(alist):\n",
    "    for j in range(len(alist)-1,0,-1):#5,4,3,2,1\n",
    "        \n",
    "        max = 0 #max中存储的是列表中元素值最大的数的下标。最开始先假设列表下标为0对应的元素是最大值\n",
    "        for i in range(0,j):#len(alist)-1  ==> j\n",
    "            if alist[max] < alist[i+1]:\n",
    "                max = i+1\n",
    "        #将最大值放置到列表末尾的位置\n",
    "        alist[max],alist[j] = alist[j],alist[max]\n",
    "    print(alist)"
   ]
  },
  {
   "cell_type": "code",
   "execution_count": 13,
   "metadata": {},
   "outputs": [
    {
     "name": "stdout",
     "output_type": "stream",
     "text": [
      "[2, 4, 6, 9, 11, 88]\n"
     ]
    }
   ],
   "source": [
    "alist = [4,11,6,88,2,9]\n",
    "sort(alist)"
   ]
  },
  {
   "cell_type": "markdown",
   "metadata": {},
   "source": [
    "- 插入排序"
   ]
  },
  {
   "cell_type": "code",
   "execution_count": null,
   "metadata": {},
   "outputs": [],
   "source": [
    "alist = [3,8,5,7,6]\n",
    "\n",
    "[3,  8,5,7,6]\n",
    "[3,8,  5,7,6]\n",
    "[3,5,8,  7,6]\n",
    "[3,5,7,8,  6]\n",
    "[3,5,6,7,8  ]"
   ]
  },
  {
   "cell_type": "code",
   "execution_count": null,
   "metadata": {},
   "outputs": [],
   "source": [
    "#step_1\n",
    "i = 1#表示的是列表中左部分有序部分的数据个数，其次还需要让i充当列表的下标\n",
    "#alist[i] == 8,乱序部分的第一个数据\n",
    "#alist[i-1] == 3，有序部分的第一个数据\n",
    "if alist[i] < alist[i-1]:\n",
    "    alist[i],alist[i-1] = alist[i-1],alist[i]\n",
    "    i += 1"
   ]
  },
  {
   "cell_type": "code",
   "execution_count": null,
   "metadata": {},
   "outputs": [],
   "source": [
    "#step_2\n",
    "i = 2\n",
    "#alist[i]乱序部分的第一个数据\n",
    "#alist[i-1]:有序部分的第二个数\n",
    "while i >= 1:\n",
    "    if alist[i] < alist[i-1]:\n",
    "        alist[i],alist[i-1] = alist[i-1],alist[i]\n",
    "        i -= 1\n",
    "    else:\n",
    "        break\n",
    "    "
   ]
  },
  {
   "cell_type": "code",
   "execution_count": null,
   "metadata": {},
   "outputs": [],
   "source": [
    "#step_3\n",
    "for i in range(1,len(alist)+1):\n",
    "    #alist[i]乱序部分的第一个数据\n",
    "    #alist[i-1]:有序部分的第二个数\n",
    "    while i >= 1:\n",
    "        if alist[i] < alist[i-1]:\n",
    "            alist[i],alist[i-1] = alist[i-1],alist[i]\n",
    "            i -= 1\n",
    "        else:\n",
    "            break"
   ]
  },
  {
   "cell_type": "code",
   "execution_count": 25,
   "metadata": {},
   "outputs": [],
   "source": [
    "#完整的代码\n",
    "def sort(alist):\n",
    "    for i in range(1,len(alist)):\n",
    "        #alist[i]乱序部分的第一个数据\n",
    "        #alist[i-1]:有序部分的第二个数\n",
    "        while i >= 1:\n",
    "            if alist[i] < alist[i-1]:\n",
    "                alist[i],alist[i-1] = alist[i-1],alist[i]\n",
    "                i -= 1\n",
    "            else:\n",
    "                break\n",
    "    print(alist)"
   ]
  },
  {
   "cell_type": "code",
   "execution_count": 24,
   "metadata": {},
   "outputs": [
    {
     "name": "stdout",
     "output_type": "stream",
     "text": [
      "[2, 4, 6, 11, 88]\n"
     ]
    }
   ],
   "source": [
    "alist = [4,11,6,88,2]\n",
    "sort(alist)"
   ]
  },
  {
   "cell_type": "markdown",
   "metadata": {},
   "source": [
    "- 希尔排序:特殊的插入排序，或者说插入排序就是增量为1的希尔排序"
   ]
  },
  {
   "cell_type": "code",
   "execution_count": null,
   "metadata": {},
   "outputs": [],
   "source": [
    "#step_1: 增量为1的希尔排序\n",
    "gap = 1\n",
    "for i in range(1,len(alist)):\n",
    "        #alist[i]乱序部分的第一个数据\n",
    "        #alist[i-1]:有序部分的第二个数\n",
    "        while i >= 1:\n",
    "            if alist[i] < alist[i-1]:\n",
    "                alist[i],alist[i-1] = alist[i-1],alist[i]\n",
    "                i -= 1\n",
    "            else:\n",
    "                break\n",
    "    print(alist)\n"
   ]
  },
  {
   "cell_type": "code",
   "execution_count": null,
   "metadata": {},
   "outputs": [],
   "source": [
    "##step_1: 实现了增量为gap的希尔排序 == （插入排序）\n",
    "gap = len(alist)//2\n",
    "for i in range(gap,len(alist)):\n",
    "        #alist[i]乱序部分的第一个数据\n",
    "        #alist[i-1]:有序部分的第二个数\n",
    "        while i >= 1:\n",
    "            if alist[i] < alist[i-gap]:\n",
    "                alist[i],alist[i-gap] = alist[i-gap],alist[i]\n",
    "                i -= gap\n",
    "            else:\n",
    "                break\n",
    "    print(alist)"
   ]
  },
  {
   "cell_type": "code",
   "execution_count": null,
   "metadata": {},
   "outputs": [],
   "source": [
    "#step_1: \n",
    "gap = len(alist)//2\n",
    "while gap >= 1:\n",
    "    for i in range(gap,len(alist)):\n",
    "            #alist[i]乱序部分的第一个数据\n",
    "            #alist[i-1]:有序部分的第二个数\n",
    "            while i >= 1:\n",
    "                if alist[i] < alist[i-gap]:\n",
    "                    alist[i],alist[i-gap] = alist[i-gap],alist[i]\n",
    "                    i -= gap\n",
    "                else:\n",
    "                    break\n",
    "    gap //= 2\n",
    "print(alist)"
   ]
  },
  {
   "cell_type": "code",
   "execution_count": 27,
   "metadata": {},
   "outputs": [],
   "source": [
    "#最终代码\n",
    "def sort(alist):\n",
    "    gap = len(alist)//2\n",
    "    while gap >= 1:\n",
    "        for i in range(gap,len(alist)):\n",
    "                #alist[i]乱序部分的第一个数据\n",
    "                #alist[i-1]:有序部分的第二个数\n",
    "                while i >= 1:\n",
    "                    if alist[i] < alist[i-gap]:\n",
    "                        alist[i],alist[i-gap] = alist[i-gap],alist[i]\n",
    "                        i -= gap\n",
    "                    else:\n",
    "                        break\n",
    "        gap //= 2\n",
    "    print(alist)"
   ]
  },
  {
   "cell_type": "code",
   "execution_count": 28,
   "metadata": {},
   "outputs": [
    {
     "name": "stdout",
     "output_type": "stream",
     "text": [
      "[1, 2, 3, 4, 5, 7, 9]\n"
     ]
    }
   ],
   "source": [
    "alist = [4,1,5,2,7,9,3]\n",
    "sort(alist)"
   ]
  },
  {
   "cell_type": "markdown",
   "metadata": {},
   "source": [
    "- 快速排序\n",
    "    - 设定一个基数，就是原始列表中第0个列表元素的数据值，基数需要存储在一个mid的变量中\n",
    "    - 设定两个变量一个为low（对应列表第一个数据的下标），一个为high（对应列表最后一个数据的下标）\n",
    "    - 从右开始偏移high，需要将high指向的数值跟基数进行大小比较，如果high指向的数值>基数，则让high向左偏移一位，继续进行比较，直到high指向的数值小于了基数，则停止high的偏移，将high指向的数值放置在low的位置，然后开始偏移low\n",
    "    - 从左往右偏移low，如果low指向的数值小于基数，则将low向右偏移一位，如果low指向的数值大于了基数，则停止low的偏移，且将low指向的数值赋值到high的位置，然后偏移high\n",
    "    - 当low和high重复相遇后，将基数赋值到low或者high指向的位置\n",
    "    - 将上述操作递归执行"
   ]
  },
  {
   "cell_type": "code",
   "execution_count": 38,
   "metadata": {},
   "outputs": [],
   "source": [
    "def sort(alist,start,end):\n",
    "    low = start\n",
    "    high = end\n",
    "    \n",
    "    if low > high:\n",
    "        return\n",
    "    \n",
    "    mid = alist[low]\n",
    "    while low < high:\n",
    "        while low < high:\n",
    "            if alist[high] > mid:#将high向左偏移\n",
    "                high -= 1\n",
    "            else:\n",
    "                alist[low] = alist[high]\n",
    "                break\n",
    "\n",
    "        while low < high:\n",
    "            if alist[low] < mid:#向右移动low\n",
    "                low += 1\n",
    "            else:\n",
    "                alist[high] = alist[low]\n",
    "                break\n",
    "            \n",
    "    if low == high:\n",
    "        alist[low] = mid#alist[high] = mid\n",
    "        \n",
    "    #将sort的操作作用到基数左侧部分\n",
    "    sort(alist,start,low-1)\n",
    "    #将sort的操作作用的基数右侧部分\n",
    "    sort(alist,high+1,end)\n",
    "    \n",
    "    return alist\n",
    "    "
   ]
  },
  {
   "cell_type": "code",
   "execution_count": 39,
   "metadata": {},
   "outputs": [
    {
     "name": "stdout",
     "output_type": "stream",
     "text": [
      "[1, 2, 3, 4, 5, 6, 7, 8, 9, 10]\n"
     ]
    }
   ],
   "source": [
    "alist = [6 ,1, 2, 7, 9, 3, 4, 5, 10, 8]\n",
    "alist = sort(alist,0,len(alist)-1)\n",
    "print(alist)"
   ]
  },
  {
   "cell_type": "code",
   "execution_count": null,
   "metadata": {},
   "outputs": [],
   "source": []
  }
 ],
 "metadata": {
  "kernelspec": {
   "display_name": "Python 3",
   "language": "python",
   "name": "python3"
  },
  "language_info": {
   "codemirror_mode": {
    "name": "ipython",
    "version": 3
   },
   "file_extension": ".py",
   "mimetype": "text/x-python",
   "name": "python",
   "nbconvert_exporter": "python",
   "pygments_lexer": "ipython3",
   "version": "3.6.4"
  }
 },
 "nbformat": 4,
 "nbformat_minor": 2
}
