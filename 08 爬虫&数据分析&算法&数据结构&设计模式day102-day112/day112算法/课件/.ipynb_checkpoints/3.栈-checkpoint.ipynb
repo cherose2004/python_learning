{
 "cells": [
  {
   "cell_type": "markdown",
   "metadata": {},
   "source": [
    "- 特性：先进后出的数据结构\n",
    "- 栈顶，栈尾\n"
   ]
  },
  {
   "cell_type": "code",
   "execution_count": null,
   "metadata": {},
   "outputs": [],
   "source": []
  },
  {
   "cell_type": "markdown",
   "metadata": {},
   "source": [
    "- 应用：每个 web 浏览器都有一个返回按钮。当你浏览网页时，这些网页被放置在一个栈中（实际是网页的网址）。你现在查看的网页在顶部，你第一个查看的网页在底部。如果按‘返回’按钮，将按相反的顺序浏览刚才的页面。"
   ]
  },
  {
   "cell_type": "code",
   "execution_count": 5,
   "metadata": {},
   "outputs": [
    {
     "name": "stdout",
     "output_type": "stream",
     "text": [
      "www.2.com\n",
      "www.1.com\n"
     ]
    }
   ],
   "source": [
    "s = Stack()\n",
    "def get_request(url):\n",
    "    s.push(url)\n",
    "    \n",
    "def showCurrentPage():\n",
    "    s.pop()\n",
    "def back():\n",
    "    print(s.pop())\n",
    "\n",
    "get_request('www.1.com')\n",
    "get_request('www.2.com')\n",
    "get_request('www.3.com')\n",
    "\n",
    "#显示当前页面\n",
    "showCurrentPage()\n",
    "\n",
    "#点击回退按钮\n",
    "back()\n",
    "back()\n"
   ]
  },
  {
   "cell_type": "markdown",
   "metadata": {},
   "source": [
    "- Stack() 创建一个空的新栈。 它不需要参数，并返回一个空栈。\n",
    "- push(item)将一个新项添加到栈的顶部。它需要 item 做参数并不返回任何内容。\n",
    "- pop() 从栈中删除顶部项。它不需要参数并返回 item 。栈被修改。\n",
    "- peek() 从栈返回顶部项，但不会删除它。不需要参数。 不修改栈。\n",
    "- isEmpty() 测试栈是否为空。不需要参数，并返回布尔值。\n",
    "- size() 返回栈中的 item 数量。不需要参数，并返回一个整数。"
   ]
  },
  {
   "cell_type": "code",
   "execution_count": 1,
   "metadata": {},
   "outputs": [],
   "source": [
    "class Stack():\n",
    "    def __init__(self):\n",
    "        self.items = []\n",
    "    def push(self,item):\n",
    "        self.items.append(item)\n",
    "    def pop(self):\n",
    "        return self.items.pop()\n",
    "    def peek(self):\n",
    "        return len(self.items) - 1\n",
    "    def isEmpty(self):\n",
    "        return self.items == []\n",
    "    def size(self):\n",
    "        return len(self.items)"
   ]
  },
  {
   "cell_type": "code",
   "execution_count": 3,
   "metadata": {},
   "outputs": [
    {
     "name": "stdout",
     "output_type": "stream",
     "text": [
      "3\n",
      "2\n",
      "1\n",
      "True\n"
     ]
    }
   ],
   "source": [
    "s = Stack()\n",
    "s.push(1)\n",
    "s.push(2)\n",
    "s.push(3)\n",
    "\n",
    "print(s.pop())\n",
    "print(s.pop())\n",
    "print(s.pop())\n",
    "\n",
    "print(s.isEmpty())"
   ]
  },
  {
   "cell_type": "code",
   "execution_count": null,
   "metadata": {},
   "outputs": [],
   "source": []
  }
 ],
 "metadata": {
  "kernelspec": {
   "display_name": "Python 3",
   "language": "python",
   "name": "python3"
  },
  "language_info": {
   "codemirror_mode": {
    "name": "ipython",
    "version": 3
   },
   "file_extension": ".py",
   "mimetype": "text/x-python",
   "name": "python",
   "nbconvert_exporter": "python",
   "pygments_lexer": "ipython3",
   "version": "3.6.4"
  }
 },
 "nbformat": 4,
 "nbformat_minor": 2
}
