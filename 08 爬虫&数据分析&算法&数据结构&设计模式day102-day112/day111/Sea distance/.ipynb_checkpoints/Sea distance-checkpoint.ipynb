{
 "cells": [
  {
   "cell_type": "markdown",
   "metadata": {},
   "source": [
    "# 城市气候与海洋的关系研究"
   ]
  },
  {
   "cell_type": "markdown",
   "metadata": {},
   "source": [
    "导入包"
   ]
  },
  {
   "cell_type": "code",
   "execution_count": 2,
   "metadata": {},
   "outputs": [],
   "source": [
    "import numpy as np\n",
    "import pandas as pd\n",
    "from pandas import Series,DataFrame\n",
    "\n",
    "import matplotlib.pyplot as plt\n",
    "\n",
    "\n",
    "from pylab import mpl\n",
    "mpl.rcParams['font.sans-serif'] = ['FangSong'] # 指定默认字体\n",
    "mpl.rcParams['axes.unicode_minus'] = False # 解决保存图像是负号'-'显示为方块的问题"
   ]
  },
  {
   "cell_type": "markdown",
   "metadata": {},
   "source": [
    "导入数据各个海滨城市数据"
   ]
  },
  {
   "cell_type": "code",
   "execution_count": 3,
   "metadata": {},
   "outputs": [],
   "source": [
    "ferrara1 = pd.read_csv('./ferrara_150715.csv')\n",
    "ferrara2 = pd.read_csv('./ferrara_250715.csv')\n",
    "ferrara3 = pd.read_csv('./ferrara_270615.csv')\n",
    "ferrara=pd.concat([ferrara1,ferrara1,ferrara1],ignore_index=True)\n",
    "\n",
    "torino1 = pd.read_csv('./torino_150715.csv')\n",
    "torino2 = pd.read_csv('./torino_250715.csv')\n",
    "torino3 = pd.read_csv('./torino_270615.csv')\n",
    "torino = pd.concat([torino1,torino2,torino3],ignore_index=True) \n",
    "\n",
    "mantova1 = pd.read_csv('./mantova_150715.csv')\n",
    "mantova2 = pd.read_csv('./mantova_250715.csv')\n",
    "mantova3 = pd.read_csv('./mantova_270615.csv')\n",
    "mantova = pd.concat([mantova1,mantova2,mantova3],ignore_index=True) \n",
    "\n",
    "milano1 = pd.read_csv('./milano_150715.csv')\n",
    "milano2 = pd.read_csv('./milano_250715.csv')\n",
    "milano3 = pd.read_csv('./milano_270615.csv')\n",
    "milano = pd.concat([milano1,milano2,milano3],ignore_index=True) \n",
    "\n",
    "ravenna1 = pd.read_csv('./ravenna_150715.csv')\n",
    "ravenna2 = pd.read_csv('./ravenna_250715.csv')\n",
    "ravenna3 = pd.read_csv('./ravenna_270615.csv')\n",
    "ravenna = pd.concat([ravenna1,ravenna2,ravenna3],ignore_index=True)\n",
    "\n",
    "asti1 = pd.read_csv('./asti_150715.csv')\n",
    "asti2 = pd.read_csv('./asti_250715.csv')\n",
    "asti3 = pd.read_csv('./asti_270615.csv')\n",
    "asti = pd.concat([asti1,asti2,asti3],ignore_index=True)\n",
    "\n",
    "bologna1 = pd.read_csv('./bologna_150715.csv')\n",
    "bologna2 = pd.read_csv('./bologna_250715.csv')\n",
    "bologna3 = pd.read_csv('./bologna_270615.csv')\n",
    "bologna = pd.concat([bologna1,bologna2,bologna3],ignore_index=True)\n",
    "\n",
    "piacenza1 = pd.read_csv('./piacenza_150715.csv')\n",
    "piacenza2 = pd.read_csv('./piacenza_250715.csv')\n",
    "piacenza3 = pd.read_csv('./piacenza_270615.csv')\n",
    "piacenza = pd.concat([piacenza1,piacenza2,piacenza3],ignore_index=True)\n",
    "\n",
    "cesena1 = pd.read_csv('./cesena_150715.csv')\n",
    "cesena2 = pd.read_csv('./cesena_250715.csv')\n",
    "cesena3 = pd.read_csv('./cesena_270615.csv')\n",
    "cesena = pd.concat([cesena1,cesena2,cesena3],ignore_index=True)\n",
    "\n",
    "faenza1 = pd.read_csv('./faenza_150715.csv')\n",
    "faenza2 = pd.read_csv('./faenza_250715.csv')\n",
    "faenza3 = pd.read_csv('./faenza_270615.csv')\n",
    "faenza = pd.concat([faenza1,faenza2,faenza3],ignore_index=True)"
   ]
  },
  {
   "cell_type": "markdown",
   "metadata": {},
   "source": [
    "去除没用的列"
   ]
  },
  {
   "cell_type": "code",
   "execution_count": 5,
   "metadata": {},
   "outputs": [],
   "source": [
    "city_list = [faenza,cesena,piacenza,bologna,asti,ravenna,milano,mantova,torino,ferrara]\n",
    "for city in city_list:\n",
    "    city.drop(labels='Unnamed: 0',axis=1,inplace=True)"
   ]
  },
  {
   "cell_type": "code",
   "execution_count": 6,
   "metadata": {},
   "outputs": [
    {
     "data": {
      "text/html": [
       "<div>\n",
       "<style scoped>\n",
       "    .dataframe tbody tr th:only-of-type {\n",
       "        vertical-align: middle;\n",
       "    }\n",
       "\n",
       "    .dataframe tbody tr th {\n",
       "        vertical-align: top;\n",
       "    }\n",
       "\n",
       "    .dataframe thead th {\n",
       "        text-align: right;\n",
       "    }\n",
       "</style>\n",
       "<table border=\"1\" class=\"dataframe\">\n",
       "  <thead>\n",
       "    <tr style=\"text-align: right;\">\n",
       "      <th></th>\n",
       "      <th>temp</th>\n",
       "      <th>humidity</th>\n",
       "      <th>pressure</th>\n",
       "      <th>description</th>\n",
       "      <th>dt</th>\n",
       "      <th>wind_speed</th>\n",
       "      <th>wind_deg</th>\n",
       "      <th>city</th>\n",
       "      <th>day</th>\n",
       "      <th>dist</th>\n",
       "    </tr>\n",
       "  </thead>\n",
       "  <tbody>\n",
       "    <tr>\n",
       "      <th>0</th>\n",
       "      <td>29.40</td>\n",
       "      <td>83</td>\n",
       "      <td>1015</td>\n",
       "      <td>moderate rain</td>\n",
       "      <td>1436863177</td>\n",
       "      <td>3.62</td>\n",
       "      <td>94.001</td>\n",
       "      <td>Faenza</td>\n",
       "      <td>2015-07-14 10:39:37</td>\n",
       "      <td>37</td>\n",
       "    </tr>\n",
       "    <tr>\n",
       "      <th>1</th>\n",
       "      <td>30.12</td>\n",
       "      <td>78</td>\n",
       "      <td>1015</td>\n",
       "      <td>moderate rain</td>\n",
       "      <td>1436866759</td>\n",
       "      <td>3.10</td>\n",
       "      <td>80.000</td>\n",
       "      <td>Faenza</td>\n",
       "      <td>2015-07-14 11:39:19</td>\n",
       "      <td>37</td>\n",
       "    </tr>\n",
       "    <tr>\n",
       "      <th>2</th>\n",
       "      <td>30.10</td>\n",
       "      <td>78</td>\n",
       "      <td>1015</td>\n",
       "      <td>moderate rain</td>\n",
       "      <td>1436870510</td>\n",
       "      <td>3.60</td>\n",
       "      <td>70.000</td>\n",
       "      <td>Faenza</td>\n",
       "      <td>2015-07-14 12:41:50</td>\n",
       "      <td>37</td>\n",
       "    </tr>\n",
       "    <tr>\n",
       "      <th>3</th>\n",
       "      <td>30.75</td>\n",
       "      <td>74</td>\n",
       "      <td>1015</td>\n",
       "      <td>moderate rain</td>\n",
       "      <td>1436874099</td>\n",
       "      <td>4.60</td>\n",
       "      <td>90.000</td>\n",
       "      <td>Faenza</td>\n",
       "      <td>2015-07-14 13:41:39</td>\n",
       "      <td>37</td>\n",
       "    </tr>\n",
       "    <tr>\n",
       "      <th>4</th>\n",
       "      <td>30.71</td>\n",
       "      <td>66</td>\n",
       "      <td>1015</td>\n",
       "      <td>moderate rain</td>\n",
       "      <td>1436877646</td>\n",
       "      <td>5.10</td>\n",
       "      <td>100.000</td>\n",
       "      <td>Faenza</td>\n",
       "      <td>2015-07-14 14:40:46</td>\n",
       "      <td>37</td>\n",
       "    </tr>\n",
       "  </tbody>\n",
       "</table>\n",
       "</div>"
      ],
      "text/plain": [
       "    temp  humidity  pressure    description          dt  wind_speed  wind_deg  \\\n",
       "0  29.40        83      1015  moderate rain  1436863177        3.62    94.001   \n",
       "1  30.12        78      1015  moderate rain  1436866759        3.10    80.000   \n",
       "2  30.10        78      1015  moderate rain  1436870510        3.60    70.000   \n",
       "3  30.75        74      1015  moderate rain  1436874099        4.60    90.000   \n",
       "4  30.71        66      1015  moderate rain  1436877646        5.10   100.000   \n",
       "\n",
       "     city                  day  dist  \n",
       "0  Faenza  2015-07-14 10:39:37    37  \n",
       "1  Faenza  2015-07-14 11:39:19    37  \n",
       "2  Faenza  2015-07-14 12:41:50    37  \n",
       "3  Faenza  2015-07-14 13:41:39    37  \n",
       "4  Faenza  2015-07-14 14:40:46    37  "
      ]
     },
     "execution_count": 6,
     "metadata": {},
     "output_type": "execute_result"
    }
   ],
   "source": [
    "faenza.head()"
   ]
  },
  {
   "cell_type": "markdown",
   "metadata": {},
   "source": [
    "显示最高温度于离海远近的关系（观察多个城市）"
   ]
  },
  {
   "cell_type": "code",
   "execution_count": 7,
   "metadata": {},
   "outputs": [],
   "source": [
    "max_temp = []\n",
    "dist_list = []\n",
    "for city in city_list:\n",
    "    temp = city['temp'].max()\n",
    "    max_temp.append(temp)\n",
    "    dist = city['dist'][0]\n",
    "    dist_list.append(dist)"
   ]
  },
  {
   "cell_type": "code",
   "execution_count": 9,
   "metadata": {},
   "outputs": [
    {
     "data": {
      "text/plain": [
       "[37, 14, 200, 71, 315, 8, 250, 121, 357, 47]"
      ]
     },
     "execution_count": 9,
     "metadata": {},
     "output_type": "execute_result"
    }
   ],
   "source": [
    "max_temp\n",
    "dist_list"
   ]
  },
  {
   "cell_type": "code",
   "execution_count": 11,
   "metadata": {
    "scrolled": true
   },
   "outputs": [
    {
     "data": {
      "text/plain": [
       "Text(0.5,1,'最高温度和距离直接的关系')"
      ]
     },
     "execution_count": 11,
     "metadata": {},
     "output_type": "execute_result"
    },
    {
     "data": {
      "image/png": "[encoded data removed]",
      "text/plain": [
       "<matplotlib.figure.Figure at 0x1e13ef53f60>"
      ]
     },
     "metadata": {},
     "output_type": "display_data"
    }
   ],
   "source": [
    "plt.scatter(dist_list,max_temp)\n",
    "plt.xlabel('距离')\n",
    "plt.ylabel('最高温度')\n",
    "plt.title('最高温度和距离直接的关系')"
   ]
  },
  {
   "cell_type": "markdown",
   "metadata": {},
   "source": [
    "### 机器学习\n",
    "- 人工智能和机器学习之间的关系\n",
    "    - 机器学习是实现人工智能的一种技术手段\n",
    "- 算法模型\n",
    "    - 概念：特殊对象。该对象内部封装了某种还没有求出解的方程！\n",
    "    - 作用：\n",
    "        - 预测：天气预报\n",
    "        - 分类：将一个未知分类的事务归属到某一种已知的分类中。\n",
    "    - 算法模型对象内部封装的方程的解就是算法模型预测或则分类的结果\n",
    "- 样本数据\n",
    "    - 样本数据和算法模型之间的关系是什么？\n",
    "        - 模型的训练：需要将样本数据带入到模型对象中，让模型对象的方程求出解。\n",
    "    - 什么是样本数据？样本数据是由什么构成的？\n",
    "        - 特征数据：自变量。往往是有多种特征组成\n",
    "        - 目标数据：因变量\n",
    "    - 算法模型的分类：\n",
    "        - 有监督学习：\n",
    "            - 如果算法模型对象需要的样本数据必须有目标数据和特征数据\n",
    "        - 无监督学习：\n",
    "            - 如果算法模型对象需要的样本数据只需要有特征数据即可\n",
    "    - sklearn模块中的模型\n",
    "       \n",
    "        "
   ]
  },
  {
   "cell_type": "code",
   "execution_count": null,
   "metadata": {},
   "outputs": [],
   "source": [
    "面积 楼层 采光率  地段    售价\n",
    "100   9    66%      中  200w\n",
    "120   1    20%      高  133w"
   ]
  },
  {
   "cell_type": "markdown",
   "metadata": {},
   "source": [
    "- 需要我们建立一个温度模型，让其可以根据一个距离预测吃该距离对应城市的最高温度是多少"
   ]
  },
  {
   "cell_type": "code",
   "execution_count": 17,
   "metadata": {},
   "outputs": [],
   "source": [
    "#样本数据的提取\n",
    "feature = np.array(dist_list) #数组形式的特征数据\n",
    "target = np.array(max_temp) #数组形式的目标数据"
   ]
  },
  {
   "cell_type": "code",
   "execution_count": 19,
   "metadata": {},
   "outputs": [
    {
     "data": {
      "text/plain": [
       "(10,)"
      ]
     },
     "execution_count": 19,
     "metadata": {},
     "output_type": "execute_result"
    }
   ],
   "source": [
    "feature.shape"
   ]
  },
  {
   "cell_type": "code",
   "execution_count": 23,
   "metadata": {},
   "outputs": [
    {
     "data": {
      "text/plain": [
       "array([34.38867418, 34.76888523])"
      ]
     },
     "execution_count": 23,
     "metadata": {},
     "output_type": "execute_result"
    }
   ],
   "source": [
    "#线性回归算法模型 y = wx + b  ==> y = 3x + 5\n",
    "from sklearn.linear_model import LinearRegression\n",
    "linner = LinearRegression() #算法模型对象\n",
    "#训练模型\n",
    "linner.fit(feature.reshape(-1,1),target) #特征数据必须是二维的！！！\n",
    "#基于训练好的模型对象实现预测功能（获取方程的解）\n",
    "linner.predict([[266],[333]])"
   ]
  },
  {
   "cell_type": "code",
   "execution_count": 25,
   "metadata": {},
   "outputs": [],
   "source": [
    "x = np.linspace(0,400,num=100)\n",
    "y = linner.predict(x.reshape(-1,1))"
   ]
  },
  {
   "cell_type": "code",
   "execution_count": 26,
   "metadata": {},
   "outputs": [
    {
     "data": {
      "text/plain": [
       "Text(0.5,1,'最高温度和距离直接的关系')"
      ]
     },
     "execution_count": 26,
     "metadata": {},
     "output_type": "execute_result"
    },
    {
     "data": {
      "image/png": "[encoded data removed]",
      "text/plain": [
       "<matplotlib.figure.Figure at 0x1e142665278>"
      ]
     },
     "metadata": {},
     "output_type": "display_data"
    }
   ],
   "source": [
    "plt.scatter(dist_list,max_temp)\n",
    "plt.scatter(x,y)\n",
    "plt.xlabel('距离')\n",
    "plt.ylabel('最高温度')\n",
    "plt.title('最高温度和距离直接的关系')"
   ]
  },
  {
   "cell_type": "markdown",
   "metadata": {
    "collapsed": true
   },
   "source": [
    "查看最低温度与海洋距离的关系"
   ]
  },
  {
   "cell_type": "markdown",
   "metadata": {},
   "source": [
    "最低湿度与海洋距离的关系"
   ]
  },
  {
   "cell_type": "markdown",
   "metadata": {},
   "source": [
    "最高湿度与海洋距离的关系"
   ]
  },
  {
   "cell_type": "markdown",
   "metadata": {},
   "source": [
    "平均湿度与海洋距离的关系"
   ]
  },
  {
   "cell_type": "code",
   "execution_count": null,
   "metadata": {
    "collapsed": true
   },
   "outputs": [],
   "source": []
  }
 ],
 "metadata": {
  "kernelspec": {
   "display_name": "Python 3",
   "language": "python",
   "name": "python3"
  },
  "language_info": {
   "codemirror_mode": {
    "name": "ipython",
    "version": 3
   },
   "file_extension": ".py",
   "mimetype": "text/x-python",
   "name": "python",
   "nbconvert_exporter": "python",
   "pygments_lexer": "ipython3",
   "version": "3.6.4"
  }
 },
 "nbformat": 4,
 "nbformat_minor": 1
}
